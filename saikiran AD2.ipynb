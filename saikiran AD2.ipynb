{
 "cells": [
  {
   "cell_type": "markdown",
   "id": "3ef6cb5d-b408-48b7-a870-0dbf7f0c5eac",
   "metadata": {},
   "source": [
    "# list tuple and dictionary"
   ]
  },
  {
   "cell_type": "code",
   "execution_count": 74,
   "id": "c372e7d7-2f49-402c-a61f-57df36b83b8a",
   "metadata": {},
   "outputs": [
    {
     "data": {
      "text/plain": [
       "[22, 45, 56, 63]"
      ]
     },
     "execution_count": 74,
     "metadata": {},
     "output_type": "execute_result"
    }
   ],
   "source": [
    "a = [22,45,56,63]\n",
    "a"
   ]
  },
  {
   "cell_type": "code",
   "execution_count": 75,
   "id": "e1e3e320-400b-47d0-9c6c-ca2ef68d3887",
   "metadata": {},
   "outputs": [
    {
     "data": {
      "text/plain": [
       "list"
      ]
     },
     "execution_count": 75,
     "metadata": {},
     "output_type": "execute_result"
    }
   ],
   "source": [
    "type(a)"
   ]
  },
  {
   "cell_type": "code",
   "execution_count": 76,
   "id": "31419d31-64df-4ea9-bdbb-a00620f5adbd",
   "metadata": {},
   "outputs": [
    {
     "data": {
      "text/plain": [
       "[203, 'hyderabad', 45, True, 'mumbai', 85, 54, 66, 94]"
      ]
     },
     "execution_count": 76,
     "metadata": {},
     "output_type": "execute_result"
    }
   ],
   "source": [
    "m=[203,'hyderabad',45,True,'mumbai',85,54,66,94]\n",
    "m"
   ]
  },
  {
   "cell_type": "code",
   "execution_count": 77,
   "id": "f7c0df04-0bd0-4eb1-9fd6-dfe2687e31c5",
   "metadata": {},
   "outputs": [
    {
     "data": {
      "text/plain": [
       "True"
      ]
     },
     "execution_count": 77,
     "metadata": {},
     "output_type": "execute_result"
    }
   ],
   "source": [
    "m[-6]"
   ]
  },
  {
   "cell_type": "code",
   "execution_count": 78,
   "id": "f45658cd-7fe0-475e-89da-421773152dc4",
   "metadata": {},
   "outputs": [
    {
     "data": {
      "text/plain": [
       "85"
      ]
     },
     "execution_count": 78,
     "metadata": {},
     "output_type": "execute_result"
    }
   ],
   "source": [
    "m[5]"
   ]
  },
  {
   "cell_type": "code",
   "execution_count": 79,
   "id": "6e315766-ff9a-4b5c-8a0c-d07e31eed2bc",
   "metadata": {},
   "outputs": [
    {
     "data": {
      "text/plain": [
       "'mumbai'"
      ]
     },
     "execution_count": 79,
     "metadata": {},
     "output_type": "execute_result"
    }
   ],
   "source": [
    "m[4]"
   ]
  },
  {
   "cell_type": "code",
   "execution_count": 80,
   "id": "06bb0bf7-2e31-440e-aab2-62386606f43b",
   "metadata": {},
   "outputs": [
    {
     "data": {
      "text/plain": [
       "'hyderabad'"
      ]
     },
     "execution_count": 80,
     "metadata": {},
     "output_type": "execute_result"
    }
   ],
   "source": [
    "m[-8]"
   ]
  },
  {
   "cell_type": "code",
   "execution_count": 81,
   "id": "89835d21-4187-44f9-aa63-a08ecfe759d2",
   "metadata": {},
   "outputs": [
    {
     "data": {
      "text/plain": [
       "'hyderabad'"
      ]
     },
     "execution_count": 81,
     "metadata": {},
     "output_type": "execute_result"
    }
   ],
   "source": [
    "m[1]"
   ]
  },
  {
   "cell_type": "code",
   "execution_count": 82,
   "id": "4649d413-8bf9-4702-b187-a9b65ebcf747",
   "metadata": {},
   "outputs": [],
   "source": [
    "#listname[start:end:step]\n",
    "list=[203,'hyderabad',45,True,'mumbai',85,54,66,94]"
   ]
  },
  {
   "cell_type": "code",
   "execution_count": 83,
   "id": "f5a0764a-743f-4d73-ac44-dba467b14e98",
   "metadata": {},
   "outputs": [
    {
     "data": {
      "text/plain": [
       "[54, 66]"
      ]
     },
     "execution_count": 83,
     "metadata": {},
     "output_type": "execute_result"
    }
   ],
   "source": [
    "list[-3:-1]"
   ]
  },
  {
   "cell_type": "code",
   "execution_count": 84,
   "id": "8aef97fb-24bf-464c-83e0-6595e9fc64db",
   "metadata": {},
   "outputs": [
    {
     "data": {
      "text/plain": [
       "['hyderabad', 45]"
      ]
     },
     "execution_count": 84,
     "metadata": {},
     "output_type": "execute_result"
    }
   ],
   "source": [
    "list[1:3]"
   ]
  },
  {
   "cell_type": "code",
   "execution_count": 85,
   "id": "e96d45bc-3cd0-4597-9315-5303f1387c63",
   "metadata": {},
   "outputs": [
    {
     "data": {
      "text/plain": [
       "[]"
      ]
     },
     "execution_count": 85,
     "metadata": {},
     "output_type": "execute_result"
    }
   ],
   "source": [
    "list[0:0]"
   ]
  },
  {
   "cell_type": "code",
   "execution_count": 86,
   "id": "eb58dae8-003e-411e-a69f-e73d623c2b4f",
   "metadata": {},
   "outputs": [
    {
     "data": {
      "text/plain": [
       "['hyderabad']"
      ]
     },
     "execution_count": 86,
     "metadata": {},
     "output_type": "execute_result"
    }
   ],
   "source": [
    "list[1:2]"
   ]
  },
  {
   "cell_type": "code",
   "execution_count": 87,
   "id": "6b7e80bd-2a3d-4b5f-8019-2a1f1a94921c",
   "metadata": {},
   "outputs": [
    {
     "data": {
      "text/plain": [
       "['hyderabad', 45]"
      ]
     },
     "execution_count": 87,
     "metadata": {},
     "output_type": "execute_result"
    }
   ],
   "source": [
    "list[1:3:1]"
   ]
  },
  {
   "cell_type": "code",
   "execution_count": 88,
   "id": "375d3cfb-83f0-442d-ad29-ed69e96ff841",
   "metadata": {},
   "outputs": [
    {
     "data": {
      "text/plain": [
       "[54]"
      ]
     },
     "execution_count": 88,
     "metadata": {},
     "output_type": "execute_result"
    }
   ],
   "source": [
    "list[-3:-2]"
   ]
  },
  {
   "cell_type": "code",
   "execution_count": 89,
   "id": "3491304c-d955-4653-bc1a-07c6a5a9f2b7",
   "metadata": {},
   "outputs": [
    {
     "data": {
      "text/plain": [
       "[True]"
      ]
     },
     "execution_count": 89,
     "metadata": {},
     "output_type": "execute_result"
    }
   ],
   "source": [
    "list[-6:4:2]"
   ]
  },
  {
   "cell_type": "code",
   "execution_count": 90,
   "id": "865b80a1-37a4-4cd4-bb0b-7ea510e23b4a",
   "metadata": {},
   "outputs": [
    {
     "data": {
      "text/plain": [
       "[54]"
      ]
     },
     "execution_count": 90,
     "metadata": {},
     "output_type": "execute_result"
    }
   ],
   "source": [
    "list[6:7:8]"
   ]
  },
  {
   "cell_type": "code",
   "execution_count": 91,
   "id": "ba913918-acb8-4137-a8bb-1a469b8049dd",
   "metadata": {},
   "outputs": [
    {
     "data": {
      "text/plain": [
       "['hyderabad', 45, True, 'mumbai', 85, 54, 66]"
      ]
     },
     "execution_count": 91,
     "metadata": {},
     "output_type": "execute_result"
    }
   ],
   "source": [
    "list[1:8]"
   ]
  },
  {
   "cell_type": "code",
   "execution_count": 92,
   "id": "b85cc3c3-ff98-471d-8e88-251721cb7c30",
   "metadata": {},
   "outputs": [
    {
     "data": {
      "text/plain": [
       "[45, True, 'mumbai', 85, 54]"
      ]
     },
     "execution_count": 92,
     "metadata": {},
     "output_type": "execute_result"
    }
   ],
   "source": [
    "list[-7:7]"
   ]
  },
  {
   "cell_type": "code",
   "execution_count": 93,
   "id": "6cc8fffc-4d7f-4ee1-ad5c-23db6d5e44b4",
   "metadata": {},
   "outputs": [
    {
     "data": {
      "text/plain": [
       "[54, 85, 'mumbai']"
      ]
     },
     "execution_count": 93,
     "metadata": {},
     "output_type": "execute_result"
    }
   ],
   "source": [
    "list[-3:3:-1]\n"
   ]
  },
  {
   "cell_type": "code",
   "execution_count": 96,
   "id": "e232e017-9c7c-44fc-8e1f-857f4375eb19",
   "metadata": {},
   "outputs": [
    {
     "data": {
      "text/plain": [
       "[203, 'hyderabad', 45, True, 'mumbai', 85, 54, 66, 94, 4, 4, 4]"
      ]
     },
     "execution_count": 96,
     "metadata": {},
     "output_type": "execute_result"
    }
   ],
   "source": [
    "list.append(4)"
   ]
  },
  {
   "cell_type": "code",
   "execution_count": 97,
   "id": "ba06ead4-0fb9-452a-821a-1781cc57af16",
   "metadata": {},
   "outputs": [],
   "source": [
    "list.append('goa')"
   ]
  },
  {
   "cell_type": "code",
   "execution_count": 98,
   "id": "6dcc881d-8798-41da-bf96-d2dc0ed9e2a8",
   "metadata": {},
   "outputs": [
    {
     "data": {
      "text/plain": [
       "[203, 'hyderabad', 45, True, 'mumbai', 85, 54, 66, 94, 4, 4, 4, 'goa']"
      ]
     },
     "execution_count": 98,
     "metadata": {},
     "output_type": "execute_result"
    }
   ],
   "source": [
    "list"
   ]
  },
  {
   "cell_type": "code",
   "execution_count": 101,
   "id": "d5d31ea4-cb5a-4fc7-bae1-527394de106c",
   "metadata": {},
   "outputs": [
    {
     "data": {
      "text/plain": [
       "4"
      ]
     },
     "execution_count": 101,
     "metadata": {},
     "output_type": "execute_result"
    }
   ],
   "source": [
    "list.pop(-2)"
   ]
  },
  {
   "cell_type": "code",
   "execution_count": 102,
   "id": "d0556278-be7a-409e-89e5-43a14c9d4353",
   "metadata": {},
   "outputs": [
    {
     "data": {
      "text/plain": [
       "[203, 'hyderabad', 45, True, 'mumbai', 85, 54, 66, 94, 4, 4, 'goa']"
      ]
     },
     "execution_count": 102,
     "metadata": {},
     "output_type": "execute_result"
    }
   ],
   "source": [
    "list"
   ]
  },
  {
   "cell_type": "code",
   "execution_count": 106,
   "id": "d07a08ef-4288-4365-b89d-a40a09f01fc9",
   "metadata": {},
   "outputs": [
    {
     "data": {
      "text/plain": [
       "4"
      ]
     },
     "execution_count": 106,
     "metadata": {},
     "output_type": "execute_result"
    }
   ],
   "source": [
    "list.pop(-2)"
   ]
  },
  {
   "cell_type": "code",
   "execution_count": 108,
   "id": "21bf9d50-5a41-4a8d-8d7b-8c6f3fd6db35",
   "metadata": {},
   "outputs": [
    {
     "data": {
      "text/plain": [
       "[203, 'hyderabad', 45, True, 'mumbai', 85, 54, 66, 94, 4]"
      ]
     },
     "execution_count": 108,
     "metadata": {},
     "output_type": "execute_result"
    }
   ],
   "source": [
    "list"
   ]
  },
  {
   "cell_type": "code",
   "execution_count": 110,
   "id": "a8f270d3-5416-40cb-8126-92708af37dcd",
   "metadata": {},
   "outputs": [],
   "source": [
    "list.remove(94)"
   ]
  },
  {
   "cell_type": "code",
   "execution_count": 111,
   "id": "fa2b68e9-2f98-42e6-a123-c72285b76ea1",
   "metadata": {},
   "outputs": [
    {
     "data": {
      "text/plain": [
       "[203, 'hyderabad', 45, True, 'mumbai', 85, 54, 66, 4]"
      ]
     },
     "execution_count": 111,
     "metadata": {},
     "output_type": "execute_result"
    }
   ],
   "source": [
    "list"
   ]
  },
  {
   "cell_type": "code",
   "execution_count": 114,
   "id": "a50e06cf-46d3-4a9b-a90d-d4895579134b",
   "metadata": {},
   "outputs": [],
   "source": [
    "list.insert(1,'goa')"
   ]
  },
  {
   "cell_type": "code",
   "execution_count": 115,
   "id": "1018649c-54ce-45c6-b9f9-ba99850656f7",
   "metadata": {},
   "outputs": [
    {
     "data": {
      "text/plain": [
       "[203, 'goa', 'hyderabad', 45, True, 'mumbai', 85, 54, 66, 4]"
      ]
     },
     "execution_count": 115,
     "metadata": {},
     "output_type": "execute_result"
    }
   ],
   "source": [
    "list"
   ]
  },
  {
   "cell_type": "code",
   "execution_count": 116,
   "id": "f8dafab9-1219-4a85-accb-fb95269e3ee8",
   "metadata": {},
   "outputs": [
    {
     "data": {
      "text/plain": [
       "1"
      ]
     },
     "execution_count": 116,
     "metadata": {},
     "output_type": "execute_result"
    }
   ],
   "source": [
    "list.count('mumbai')"
   ]
  },
  {
   "cell_type": "code",
   "execution_count": 117,
   "id": "1a916842-ba62-4629-a505-9d34cf8d0124",
   "metadata": {},
   "outputs": [],
   "source": [
    "list.insert(6,'goa')"
   ]
  },
  {
   "cell_type": "code",
   "execution_count": 118,
   "id": "1a08d445-4b22-4e52-96d3-62c8617891ec",
   "metadata": {},
   "outputs": [
    {
     "data": {
      "text/plain": [
       "[203, 'goa', 'hyderabad', 45, True, 'mumbai', 'goa', 85, 54, 66, 4]"
      ]
     },
     "execution_count": 118,
     "metadata": {},
     "output_type": "execute_result"
    }
   ],
   "source": [
    "list"
   ]
  },
  {
   "cell_type": "code",
   "execution_count": 119,
   "id": "08f5a518-9084-4f86-a064-fd6bee4ba01d",
   "metadata": {},
   "outputs": [
    {
     "data": {
      "text/plain": [
       "2"
      ]
     },
     "execution_count": 119,
     "metadata": {},
     "output_type": "execute_result"
    }
   ],
   "source": [
    "list.count('goa')"
   ]
  },
  {
   "cell_type": "code",
   "execution_count": 122,
   "id": "9d0a892f-7bf3-438f-aa0d-7b275c6f7b9e",
   "metadata": {},
   "outputs": [],
   "source": [
    "list.extend([50,20,30])"
   ]
  },
  {
   "cell_type": "code",
   "execution_count": 123,
   "id": "374a9f87-48d6-4ac6-a1b2-141ff5cc7a84",
   "metadata": {},
   "outputs": [
    {
     "data": {
      "text/plain": [
       "[203, 'goa', 'hyderabad', 45, True, 'mumbai', 'goa', 85, 54, 66, 4, 50, 20, 30]"
      ]
     },
     "execution_count": 123,
     "metadata": {},
     "output_type": "execute_result"
    }
   ],
   "source": [
    "list"
   ]
  },
  {
   "cell_type": "code",
   "execution_count": 125,
   "id": "432daeb1-d288-4725-99e8-48b1890cd582",
   "metadata": {},
   "outputs": [],
   "source": [
    "list2=[45,94,14,897]"
   ]
  },
  {
   "cell_type": "code",
   "execution_count": 126,
   "id": "4fb20d69-8fff-4e4d-886d-0509de153004",
   "metadata": {},
   "outputs": [
    {
     "data": {
      "text/plain": [
       "[45, 94, 14, 897]"
      ]
     },
     "execution_count": 126,
     "metadata": {},
     "output_type": "execute_result"
    }
   ],
   "source": [
    "list2"
   ]
  },
  {
   "cell_type": "code",
   "execution_count": 127,
   "id": "42baf191-02e8-4800-9e9d-52b3377592ff",
   "metadata": {},
   "outputs": [],
   "source": [
    "a = list + list2"
   ]
  },
  {
   "cell_type": "code",
   "execution_count": 129,
   "id": "777f3806-0243-4ff7-bc95-27db9f15b40c",
   "metadata": {},
   "outputs": [
    {
     "name": "stdout",
     "output_type": "stream",
     "text": [
      "[203, 'goa', 'hyderabad', 45, True, 'mumbai', 'goa', 85, 54, 66, 4, 50, 20, 30, 45, 94, 14, 897]\n"
     ]
    }
   ],
   "source": [
    "print(a)"
   ]
  },
  {
   "cell_type": "code",
   "execution_count": 131,
   "id": "04256f39-d42a-4287-bb47-2b27c25cb447",
   "metadata": {},
   "outputs": [],
   "source": [
    "a.append(\"saikiran\")"
   ]
  },
  {
   "cell_type": "code",
   "execution_count": 133,
   "id": "4e6790b3-a01a-4f04-b87c-4dedc3053b92",
   "metadata": {},
   "outputs": [
    {
     "name": "stdout",
     "output_type": "stream",
     "text": [
      "[203, 'goa', 'hyderabad', 45, True, 'mumbai', 'goa', 85, 54, 66, 4, 50, 20, 30, 45, 94, 14, 897, 'saikiran']\n"
     ]
    }
   ],
   "source": [
    "print(a)"
   ]
  },
  {
   "cell_type": "code",
   "execution_count": 139,
   "id": "71f4f1a4-546d-493e-ab37-05c193aab60c",
   "metadata": {},
   "outputs": [
    {
     "data": {
      "text/plain": [
       "94"
      ]
     },
     "execution_count": 139,
     "metadata": {},
     "output_type": "execute_result"
    }
   ],
   "source": [
    "a.pop(-4)"
   ]
  },
  {
   "cell_type": "code",
   "execution_count": 141,
   "id": "1cc603da-2103-4046-937e-b529130aaa6a",
   "metadata": {},
   "outputs": [
    {
     "name": "stdout",
     "output_type": "stream",
     "text": [
      "[203, 'goa', 'hyderabad', 45, True, 'mumbai', 'goa', 85, 54, 66, 4, 50, 20, 30, 45, 14, 897, 'saikiran']\n"
     ]
    }
   ],
   "source": [
    "print(a)"
   ]
  },
  {
   "cell_type": "code",
   "execution_count": 144,
   "id": "83786fb5-0ca1-4ba0-bbb4-eade8d502880",
   "metadata": {},
   "outputs": [],
   "source": [
    "a.remove(50)"
   ]
  },
  {
   "cell_type": "code",
   "execution_count": 146,
   "id": "98858add-4f13-4d5f-b81c-184f31fdc379",
   "metadata": {},
   "outputs": [
    {
     "name": "stdout",
     "output_type": "stream",
     "text": [
      "[203, 'goa', 'hyderabad', 45, True, 'mumbai', 'goa', 85, 54, 66, 4, 20, 30, 45, 14, 897, 'saikiran']\n"
     ]
    }
   ],
   "source": [
    "print(a)"
   ]
  },
  {
   "cell_type": "markdown",
   "id": "a7064f9f-3c76-4bde-8c3a-a4653b004231",
   "metadata": {},
   "source": [
    "remove==>directly remove elements\n",
    "pop==>remove element with their index\n"
   ]
  },
  {
   "cell_type": "code",
   "execution_count": null,
   "id": "1d2d2533-67b5-4c02-a9d3-c694858ed5f4",
   "metadata": {},
   "outputs": [],
   "source": []
  },
  {
   "cell_type": "code",
   "execution_count": null,
   "id": "7e2d6e6f-ea0b-404d-80a6-e026623d08f2",
   "metadata": {},
   "outputs": [],
   "source": []
  },
  {
   "cell_type": "code",
   "execution_count": null,
   "id": "28235a70-59de-4d97-ba26-a1809d13ce20",
   "metadata": {},
   "outputs": [],
   "source": []
  }
 ],
 "metadata": {
  "kernelspec": {
   "display_name": "Python 3 (ipykernel)",
   "language": "python",
   "name": "python3"
  },
  "language_info": {
   "codemirror_mode": {
    "name": "ipython",
    "version": 3
   },
   "file_extension": ".py",
   "mimetype": "text/x-python",
   "name": "python",
   "nbconvert_exporter": "python",
   "pygments_lexer": "ipython3",
   "version": "3.12.7"
  }
 },
 "nbformat": 4,
 "nbformat_minor": 5
}
