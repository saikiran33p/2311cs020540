{
 "cells": [
  {
   "cell_type": "code",
   "execution_count": 1,
   "id": "5a5b659a-a64b-46fa-9b9e-b004eadefae1",
   "metadata": {},
   "outputs": [
    {
     "data": {
      "text/plain": [
       "(90, 50, 40, 55, 60, 10, 70, 66, 72, 78, 15, 24, 64)"
      ]
     },
     "execution_count": 1,
     "metadata": {},
     "output_type": "execute_result"
    }
   ],
   "source": [
    "h = (90,50,40,55,60,10,70,66,72,78,15,24,64)\n",
    "h"
   ]
  },
  {
   "cell_type": "code",
   "execution_count": 2,
   "id": "b33033aa-42bb-4694-8a89-da53e5081731",
   "metadata": {},
   "outputs": [
    {
     "data": {
      "text/plain": [
       "1"
      ]
     },
     "execution_count": 2,
     "metadata": {},
     "output_type": "execute_result"
    }
   ],
   "source": [
    "h.count(40)"
   ]
  },
  {
   "cell_type": "code",
   "execution_count": 3,
   "id": "70f15feb-ee2a-4655-980d-34fab9d10687",
   "metadata": {},
   "outputs": [
    {
     "data": {
      "text/plain": [
       "tuple"
      ]
     },
     "execution_count": 3,
     "metadata": {},
     "output_type": "execute_result"
    }
   ],
   "source": [
    "type(h)"
   ]
  },
  {
   "cell_type": "code",
   "execution_count": 4,
   "id": "2e05c107-e068-4669-ae28-2fec63a9ae05",
   "metadata": {},
   "outputs": [
    {
     "data": {
      "text/plain": [
       "3"
      ]
     },
     "execution_count": 4,
     "metadata": {},
     "output_type": "execute_result"
    }
   ],
   "source": [
    "h.index(55) # indexing value of tuple"
   ]
  },
  {
   "cell_type": "code",
   "execution_count": 7,
   "id": "fd35d2b9-81e3-4d87-a088-da6acaf5c757",
   "metadata": {},
   "outputs": [
    {
     "data": {
      "text/plain": [
       "(90, 50, 40)"
      ]
     },
     "execution_count": 7,
     "metadata": {},
     "output_type": "execute_result"
    }
   ],
   "source": [
    "h[0:3]"
   ]
  },
  {
   "cell_type": "code",
   "execution_count": 8,
   "id": "de6221b9-6c72-4be5-8874-44d5c36451c8",
   "metadata": {},
   "outputs": [
    {
     "data": {
      "text/plain": [
       "{10, 20, 30, 60, 70, 80}"
      ]
     },
     "execution_count": 8,
     "metadata": {},
     "output_type": "execute_result"
    }
   ],
   "source": [
    " s = { 80,70,30,80,60,30,10,20} # set \n",
    "s"
   ]
  },
  {
   "cell_type": "code",
   "execution_count": 10,
   "id": "c594f847-1685-446b-a8a7-cb0cf6cd918c",
   "metadata": {},
   "outputs": [
    {
     "data": {
      "text/plain": [
       "set"
      ]
     },
     "execution_count": 10,
     "metadata": {},
     "output_type": "execute_result"
    }
   ],
   "source": [
    "type(s)"
   ]
  },
  {
   "cell_type": "code",
   "execution_count": 11,
   "id": "b5647e9d-3931-4159-99c8-c0c3fdd3c95e",
   "metadata": {},
   "outputs": [
    {
     "data": {
      "text/plain": [
       "{10, 20, 30, 60, 70, 80}"
      ]
     },
     "execution_count": 11,
     "metadata": {},
     "output_type": "execute_result"
    }
   ],
   "source": [
    "s"
   ]
  },
  {
   "cell_type": "code",
   "execution_count": 13,
   "id": "3598452a-0c41-4675-ad4f-88967830d07c",
   "metadata": {},
   "outputs": [],
   "source": [
    "s.add(77) # adding value to set "
   ]
  },
  {
   "cell_type": "code",
   "execution_count": 14,
   "id": "74c79629-2a65-4c9e-9f71-e19dcc165fef",
   "metadata": {},
   "outputs": [
    {
     "data": {
      "text/plain": [
       "{10, 20, 30, 60, 70, 77, 80}"
      ]
     },
     "execution_count": 14,
     "metadata": {},
     "output_type": "execute_result"
    }
   ],
   "source": [
    "s"
   ]
  },
  {
   "cell_type": "code",
   "execution_count": 15,
   "id": "167e0aef-99fa-483b-8239-81ca86e82aa9",
   "metadata": {},
   "outputs": [],
   "source": [
    "s.remove(70) # removing value from the set"
   ]
  },
  {
   "cell_type": "code",
   "execution_count": 16,
   "id": "9e930325-a019-4321-a0ae-eb55236fb9d8",
   "metadata": {},
   "outputs": [
    {
     "data": {
      "text/plain": [
       "{10, 20, 30, 60, 77, 80}"
      ]
     },
     "execution_count": 16,
     "metadata": {},
     "output_type": "execute_result"
    }
   ],
   "source": [
    "s"
   ]
  },
  {
   "cell_type": "code",
   "execution_count": 38,
   "id": "62234e39-9f64-4d08-b8e1-f5c2c07554f8",
   "metadata": {},
   "outputs": [
    {
     "data": {
      "text/plain": [
       "{10, 25, 34, 45, 57, 64, 94}"
      ]
     },
     "execution_count": 38,
     "metadata": {},
     "output_type": "execute_result"
    }
   ],
   "source": [
    "y = {10,57,64,34,94,25,45} # new set y\n",
    "y"
   ]
  },
  {
   "cell_type": "code",
   "execution_count": 18,
   "id": "5fa0c643-59ec-478e-a1f2-be249f058cd6",
   "metadata": {},
   "outputs": [
    {
     "data": {
      "text/plain": [
       "{10}"
      ]
     },
     "execution_count": 18,
     "metadata": {},
     "output_type": "execute_result"
    }
   ],
   "source": [
    "s.intersection(y) # its shows that available values in both sets s and y"
   ]
  },
  {
   "cell_type": "code",
   "execution_count": 19,
   "id": "f0a618a8-1874-4def-93bb-0b7c553d104b",
   "metadata": {},
   "outputs": [
    {
     "data": {
      "text/plain": [
       "{10, 20, 25, 30, 34, 45, 57, 60, 64, 77, 80, 94}"
      ]
     },
     "execution_count": 19,
     "metadata": {},
     "output_type": "execute_result"
    }
   ],
   "source": [
    "s.union(y) # it shows all values avalailable in set s and y "
   ]
  },
  {
   "cell_type": "code",
   "execution_count": 20,
   "id": "2f7b02d1-859d-4c07-a0cf-b0582d19ccee",
   "metadata": {},
   "outputs": [],
   "source": [
    "s.discard(50) # it is used to remove values from the set s"
   ]
  },
  {
   "cell_type": "code",
   "execution_count": 21,
   "id": "cd1f538b-26ed-497f-bb32-004ea0284462",
   "metadata": {},
   "outputs": [
    {
     "data": {
      "text/plain": [
       "{10, 20, 30, 60, 77, 80}"
      ]
     },
     "execution_count": 21,
     "metadata": {},
     "output_type": "execute_result"
    }
   ],
   "source": [
    "s"
   ]
  },
  {
   "cell_type": "code",
   "execution_count": 22,
   "id": "8dd765dd-64cd-4a48-916f-4501f86b5462",
   "metadata": {},
   "outputs": [
    {
     "data": {
      "text/plain": [
       "{10, 20, 25, 30, 34, 45, 57, 60, 64, 77, 80, 94}"
      ]
     },
     "execution_count": 22,
     "metadata": {},
     "output_type": "execute_result"
    }
   ],
   "source": [
    "s.union(y)"
   ]
  },
  {
   "cell_type": "code",
   "execution_count": 23,
   "id": "2ca99849-9145-4368-b7a2-19233b50e856",
   "metadata": {},
   "outputs": [
    {
     "data": {
      "text/plain": [
       "{20, 30, 60, 77, 80}"
      ]
     },
     "execution_count": 23,
     "metadata": {},
     "output_type": "execute_result"
    }
   ],
   "source": [
    "s.difference(y)"
   ]
  },
  {
   "cell_type": "code",
   "execution_count": 24,
   "id": "1c9eb297-5f84-4823-8dea-4309a278be2c",
   "metadata": {},
   "outputs": [
    {
     "data": {
      "text/plain": [
       "{25, 34, 45, 57, 64, 94}"
      ]
     },
     "execution_count": 24,
     "metadata": {},
     "output_type": "execute_result"
    }
   ],
   "source": [
    "y.difference(s)"
   ]
  },
  {
   "cell_type": "code",
   "execution_count": 26,
   "id": "6dba3cb4-54ab-47bb-acab-86c55e806e45",
   "metadata": {},
   "outputs": [
    {
     "data": {
      "text/plain": [
       "{20, 25, 30, 34, 45, 57, 60, 64, 77, 80, 94}"
      ]
     },
     "execution_count": 26,
     "metadata": {},
     "output_type": "execute_result"
    }
   ],
   "source": [
    "s.symmetric_difference(y)"
   ]
  },
  {
   "cell_type": "code",
   "execution_count": 31,
   "id": "f8aa87cf-336d-4cdb-b4fe-3878c4ef877d",
   "metadata": {},
   "outputs": [
    {
     "data": {
      "text/plain": [
       "(80, 20, 10, 60, 77, 30)"
      ]
     },
     "execution_count": 31,
     "metadata": {},
     "output_type": "execute_result"
    }
   ],
   "source": [
    "tuple(s)\n"
   ]
  },
  {
   "cell_type": "code",
   "execution_count": 33,
   "id": "a2ad5a67-5892-4d98-9529-1a541f2c3667",
   "metadata": {},
   "outputs": [
    {
     "data": {
      "text/plain": [
       "{10, 20, 30, 60, 77, 80}"
      ]
     },
     "execution_count": 33,
     "metadata": {},
     "output_type": "execute_result"
    }
   ],
   "source": [
    "s"
   ]
  },
  {
   "cell_type": "code",
   "execution_count": 34,
   "id": "1d098743-5dd4-4cb2-a079-f5031dc4f507",
   "metadata": {},
   "outputs": [
    {
     "data": {
      "text/plain": [
       "[80, 20, 10, 60, 77, 30]"
      ]
     },
     "execution_count": 34,
     "metadata": {},
     "output_type": "execute_result"
    }
   ],
   "source": [
    "list(s)"
   ]
  },
  {
   "cell_type": "code",
   "execution_count": 35,
   "id": "6d3b2da8-1eb2-4287-ae40-edb679d30df8",
   "metadata": {},
   "outputs": [],
   "source": [
    "z = list(s)"
   ]
  },
  {
   "cell_type": "code",
   "execution_count": 36,
   "id": "3202bd25-b099-4379-a5bc-ffa5bd51a1e6",
   "metadata": {},
   "outputs": [
    {
     "data": {
      "text/plain": [
       "[80, 20, 10, 60, 77, 30]"
      ]
     },
     "execution_count": 36,
     "metadata": {},
     "output_type": "execute_result"
    }
   ],
   "source": [
    "z\n"
   ]
  },
  {
   "cell_type": "code",
   "execution_count": 37,
   "id": "822738f9-fe05-4d91-a2e4-c664328e1bf2",
   "metadata": {},
   "outputs": [
    {
     "data": {
      "text/plain": [
       "2"
      ]
     },
     "execution_count": 37,
     "metadata": {},
     "output_type": "execute_result"
    }
   ],
   "source": [
    "z.index(10)"
   ]
  },
  {
   "cell_type": "code",
   "execution_count": null,
   "id": "a69177ac-b618-48f2-a789-b2ccb5ec8cf2",
   "metadata": {},
   "outputs": [],
   "source": []
  }
 ],
 "metadata": {
  "kernelspec": {
   "display_name": "Python 3 (ipykernel)",
   "language": "python",
   "name": "python3"
  },
  "language_info": {
   "codemirror_mode": {
    "name": "ipython",
    "version": 3
   },
   "file_extension": ".py",
   "mimetype": "text/x-python",
   "name": "python",
   "nbconvert_exporter": "python",
   "pygments_lexer": "ipython3",
   "version": "3.12.7"
  }
 },
 "nbformat": 4,
 "nbformat_minor": 5
}
