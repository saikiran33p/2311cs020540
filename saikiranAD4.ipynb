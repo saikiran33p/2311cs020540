{
 "cells": [
  {
   "cell_type": "markdown",
   "id": "d2790ef5-4efc-4fc9-a7c1-7bd2ec11b730",
   "metadata": {},
   "source": [
    " # Dictionary"
   ]
  },
  {
   "cell_type": "code",
   "execution_count": 3,
   "id": "733dc3ca-7c74-4575-a896-326ea0de366a",
   "metadata": {},
   "outputs": [],
   "source": [
    "d = { 101 : 2, 102: 8, 103:45} # defining index d"
   ]
  },
  {
   "cell_type": "code",
   "execution_count": 4,
   "id": "b3bcd408-c0c9-490f-87c9-228319a83db1",
   "metadata": {},
   "outputs": [
    {
     "data": {
      "text/plain": [
       "{101: 2, 102: 8, 103: 45}"
      ]
     },
     "execution_count": 4,
     "metadata": {},
     "output_type": "execute_result"
    }
   ],
   "source": [
    "d"
   ]
  },
  {
   "cell_type": "code",
   "execution_count": 5,
   "id": "e520555a-f3c2-467a-be0e-4c960d223b07",
   "metadata": {},
   "outputs": [
    {
     "data": {
      "text/plain": [
       "2"
      ]
     },
     "execution_count": 5,
     "metadata": {},
     "output_type": "execute_result"
    }
   ],
   "source": [
    "d[101] #accesing the dic value"
   ]
  },
  {
   "cell_type": "code",
   "execution_count": 6,
   "id": "999dd413-96d4-4cf6-a122-a5ae5a9f5eb3",
   "metadata": {},
   "outputs": [
    {
     "data": {
      "text/plain": [
       "45"
      ]
     },
     "execution_count": 6,
     "metadata": {},
     "output_type": "execute_result"
    }
   ],
   "source": [
    "d[103]"
   ]
  },
  {
   "cell_type": "code",
   "execution_count": 24,
   "id": "0231a2bf-45ca-491e-91f7-3ad492b4255b",
   "metadata": {},
   "outputs": [],
   "source": [
    "d[101] = 40 # changes the existing value"
   ]
  },
  {
   "cell_type": "code",
   "execution_count": 8,
   "id": "29b0ef5c-012f-4c72-905b-ac1efd83c510",
   "metadata": {},
   "outputs": [
    {
     "data": {
      "text/plain": [
       "{101: 40, 102: 8, 103: 45}"
      ]
     },
     "execution_count": 8,
     "metadata": {},
     "output_type": "execute_result"
    }
   ],
   "source": [
    "d"
   ]
  },
  {
   "cell_type": "code",
   "execution_count": 13,
   "id": "94962622-12fc-4e78-a3d2-0cf4f0fe93bf",
   "metadata": {},
   "outputs": [],
   "source": [
    "d.update({102:99})"
   ]
  },
  {
   "cell_type": "code",
   "execution_count": 14,
   "id": "58936aa3-95b8-4134-8fe1-d0dac05dc8ab",
   "metadata": {},
   "outputs": [
    {
     "data": {
      "text/plain": [
       "{101: 40, 102: 99, 103: 45}"
      ]
     },
     "execution_count": 14,
     "metadata": {},
     "output_type": "execute_result"
    }
   ],
   "source": [
    "d"
   ]
  },
  {
   "cell_type": "code",
   "execution_count": 20,
   "id": "d87739d6-39b2-4784-b16c-dd4e230f1221",
   "metadata": {},
   "outputs": [],
   "source": [
    "d[105] = 5000 # another method to update"
   ]
  },
  {
   "cell_type": "code",
   "execution_count": 21,
   "id": "eb089ab5-c218-46bd-a59e-751a5c186718",
   "metadata": {},
   "outputs": [
    {
     "data": {
      "text/plain": [
       "{101: 40, 102: 99, 103: 45, 105: 5000, 'B': 50}"
      ]
     },
     "execution_count": 21,
     "metadata": {},
     "output_type": "execute_result"
    }
   ],
   "source": [
    "d"
   ]
  },
  {
   "cell_type": "code",
   "execution_count": 22,
   "id": "28bdace8-95bb-4285-a7a9-9e6e235153d8",
   "metadata": {},
   "outputs": [],
   "source": [
    "d['B'] = 50"
   ]
  },
  {
   "cell_type": "code",
   "execution_count": 23,
   "id": "e040d583-d192-4afb-9af8-71cc36ef1106",
   "metadata": {},
   "outputs": [
    {
     "data": {
      "text/plain": [
       "{101: 40, 102: 99, 103: 45, 105: 5000, 'B': 50}"
      ]
     },
     "execution_count": 23,
     "metadata": {},
     "output_type": "execute_result"
    }
   ],
   "source": [
    "d"
   ]
  },
  {
   "cell_type": "code",
   "execution_count": 25,
   "id": "63c9f44a-4426-4eb4-8fa9-3be593725ba3",
   "metadata": {},
   "outputs": [],
   "source": [
    "d.update({101:'india'})"
   ]
  },
  {
   "cell_type": "code",
   "execution_count": 26,
   "id": "2cac0da7-75a6-4984-886d-130f8faf418e",
   "metadata": {},
   "outputs": [
    {
     "data": {
      "text/plain": [
       "{101: 'india', 102: 99, 103: 45, 105: 5000, 'B': 50}"
      ]
     },
     "execution_count": 26,
     "metadata": {},
     "output_type": "execute_result"
    }
   ],
   "source": [
    "d"
   ]
  },
  {
   "cell_type": "code",
   "execution_count": 32,
   "id": "929a8aa5-d9c8-45e9-9ee6-179c70c95f8c",
   "metadata": {},
   "outputs": [
    {
     "data": {
      "text/plain": [
       "5000"
      ]
     },
     "execution_count": 32,
     "metadata": {},
     "output_type": "execute_result"
    }
   ],
   "source": [
    "d.get(105) # method 2 for accessing the value"
   ]
  },
  {
   "cell_type": "code",
   "execution_count": 33,
   "id": "e1b74a50-882d-4bec-afe3-d9028c179183",
   "metadata": {},
   "outputs": [
    {
     "data": {
      "text/plain": [
       "5000"
      ]
     },
     "execution_count": 33,
     "metadata": {},
     "output_type": "execute_result"
    }
   ],
   "source": [
    "d[105]"
   ]
  },
  {
   "cell_type": "markdown",
   "id": "26d34771-2558-4977-8b8c-be5b77310863",
   "metadata": {},
   "source": [
    " # dictionaries allow dupilicate values but not dupilicate keys\n"
   ]
  },
  {
   "cell_type": "code",
   "execution_count": 34,
   "id": "5569ec80-5a49-4639-8598-6583d6267189",
   "metadata": {},
   "outputs": [],
   "source": [
    "del d['B']"
   ]
  },
  {
   "cell_type": "code",
   "execution_count": 35,
   "id": "ded044a0-fc1f-465a-a4d2-f81cf9d78c8e",
   "metadata": {},
   "outputs": [
    {
     "data": {
      "text/plain": [
       "{101: 'india', 102: 99, 103: 45, 105: 5000}"
      ]
     },
     "execution_count": 35,
     "metadata": {},
     "output_type": "execute_result"
    }
   ],
   "source": [
    "d"
   ]
  },
  {
   "cell_type": "code",
   "execution_count": 36,
   "id": "40e5f3d0-94d1-4f6c-bfe2-916c26a61858",
   "metadata": {},
   "outputs": [
    {
     "data": {
      "text/plain": [
       "dict_values(['india', 99, 45, 5000])"
      ]
     },
     "execution_count": 36,
     "metadata": {},
     "output_type": "execute_result"
    }
   ],
   "source": [
    "d.values()"
   ]
  },
  {
   "cell_type": "code",
   "execution_count": 37,
   "id": "510a4158-ec32-479f-924a-7a051b790f64",
   "metadata": {},
   "outputs": [
    {
     "data": {
      "text/plain": [
       "dict_keys([101, 102, 103, 105])"
      ]
     },
     "execution_count": 37,
     "metadata": {},
     "output_type": "execute_result"
    }
   ],
   "source": [
    "d.keys()"
   ]
  },
  {
   "cell_type": "code",
   "execution_count": 38,
   "id": "c5821d83-b3e9-4790-bd86-95e1da8abdc5",
   "metadata": {},
   "outputs": [
    {
     "data": {
      "text/plain": [
       "dict_items([(101, 'india'), (102, 99), (103, 45), (105, 5000)])"
      ]
     },
     "execution_count": 38,
     "metadata": {},
     "output_type": "execute_result"
    }
   ],
   "source": [
    "d.items() "
   ]
  },
  {
   "cell_type": "code",
   "execution_count": 40,
   "id": "be923585-bcf8-4fb0-911b-b2773b37b08f",
   "metadata": {},
   "outputs": [],
   "source": [
    "d.update({105:[500,600]})"
   ]
  },
  {
   "cell_type": "code",
   "execution_count": 41,
   "id": "ec1057fe-0cdb-4d8f-b249-03ace1481b4b",
   "metadata": {},
   "outputs": [
    {
     "data": {
      "text/plain": [
       "{101: 'india', 102: 99, 103: 45, 105: [500, 600]}"
      ]
     },
     "execution_count": 41,
     "metadata": {},
     "output_type": "execute_result"
    }
   ],
   "source": [
    "d"
   ]
  },
  {
   "cell_type": "code",
   "execution_count": 43,
   "id": "b307aa1e-9b0e-4b3e-bec0-0bc31c057795",
   "metadata": {},
   "outputs": [
    {
     "data": {
      "text/plain": [
       "[500, 600]"
      ]
     },
     "execution_count": 43,
     "metadata": {},
     "output_type": "execute_result"
    }
   ],
   "source": [
    "d[105]"
   ]
  },
  {
   "cell_type": "code",
   "execution_count": 49,
   "id": "41be7167-a0f8-4061-8de1-2f21aedbb6c3",
   "metadata": {},
   "outputs": [
    {
     "data": {
      "text/plain": [
       "list"
      ]
     },
     "execution_count": 49,
     "metadata": {},
     "output_type": "execute_result"
    }
   ],
   "source": [
    "type([105]) # type of particular value d(dictionary)"
   ]
  },
  {
   "cell_type": "code",
   "execution_count": 50,
   "id": "79c8b68c-b0c8-401d-9278-79d883f85b06",
   "metadata": {},
   "outputs": [
    {
     "data": {
      "text/plain": [
       "int"
      ]
     },
     "execution_count": 50,
     "metadata": {},
     "output_type": "execute_result"
    }
   ],
   "source": [
    "type(d[102])"
   ]
  },
  {
   "cell_type": "code",
   "execution_count": 51,
   "id": "b624e039-4fed-415a-9e93-cb4836157020",
   "metadata": {},
   "outputs": [
    {
     "data": {
      "text/plain": [
       "str"
      ]
     },
     "execution_count": 51,
     "metadata": {},
     "output_type": "execute_result"
    }
   ],
   "source": [
    "type(d[101])"
   ]
  },
  {
   "cell_type": "code",
   "execution_count": 52,
   "id": "e7d7e98a-41cd-484c-ad84-cfb329de7d5e",
   "metadata": {},
   "outputs": [
    {
     "data": {
      "text/plain": [
       "{101: 'india', 102: 99, 103: 45, 105: [500, 600]}"
      ]
     },
     "execution_count": 52,
     "metadata": {},
     "output_type": "execute_result"
    }
   ],
   "source": [
    "d"
   ]
  },
  {
   "cell_type": "code",
   "execution_count": 53,
   "id": "fc2d0317-4c75-4ff7-aa65-c1b1e4b6d7bd",
   "metadata": {},
   "outputs": [],
   "source": [
    "d[106]= 1,2,3,4"
   ]
  },
  {
   "cell_type": "code",
   "execution_count": 54,
   "id": "9041923e-7548-4658-b896-29e113e6036d",
   "metadata": {},
   "outputs": [],
   "source": [
    "d[107] = 'telangana'"
   ]
  },
  {
   "cell_type": "code",
   "execution_count": 55,
   "id": "8259176c-3ba8-4424-8092-391425ee596b",
   "metadata": {},
   "outputs": [
    {
     "data": {
      "text/plain": [
       "{101: 'india',\n",
       " 102: 99,\n",
       " 103: 45,\n",
       " 105: [500, 600],\n",
       " 106: (1, 2, 3, 4),\n",
       " 107: 'telangana'}"
      ]
     },
     "execution_count": 55,
     "metadata": {},
     "output_type": "execute_result"
    }
   ],
   "source": [
    "d"
   ]
  },
  {
   "cell_type": "code",
   "execution_count": 56,
   "id": "98d4845b-ed6c-46fe-b2fa-869e6fa9a9c4",
   "metadata": {},
   "outputs": [],
   "source": [
    "d[105].append(800)"
   ]
  },
  {
   "cell_type": "code",
   "execution_count": 57,
   "id": "44363173-2e42-4207-83e8-13fc44f05cfe",
   "metadata": {},
   "outputs": [
    {
     "data": {
      "text/plain": [
       "{101: 'india',\n",
       " 102: 99,\n",
       " 103: 45,\n",
       " 105: [500, 600, 800],\n",
       " 106: (1, 2, 3, 4),\n",
       " 107: 'telangana'}"
      ]
     },
     "execution_count": 57,
     "metadata": {},
     "output_type": "execute_result"
    }
   ],
   "source": [
    "d"
   ]
  },
  {
   "cell_type": "code",
   "execution_count": 58,
   "id": "837a7044-fca6-45e9-9d50-26b981d3bffc",
   "metadata": {},
   "outputs": [
    {
     "name": "stdout",
     "output_type": "stream",
     "text": [
      "{101: 'india', 102: 99, 103: 45, 105: [500, 600, 800], 106: (1, 2, 3, 4), 107: 'telangana'}\n"
     ]
    }
   ],
   "source": [
    "print(d)"
   ]
  },
  {
   "cell_type": "code",
   "execution_count": 73,
   "id": "a540c304-054e-4059-b238-8b7a67086f29",
   "metadata": {},
   "outputs": [],
   "source": [
    "d[101] = {50:[1,2,3,4] , 'apple':(20,4,30,[20,180,40])}"
   ]
  },
  {
   "cell_type": "code",
   "execution_count": 74,
   "id": "5134f2a7-4683-4090-996a-81314b6fbe3d",
   "metadata": {},
   "outputs": [
    {
     "data": {
      "text/plain": [
       "{101: {50: [1, 2, 3, 4], 'apple': (20, 4, 30, [20, 180, 40])},\n",
       " 102: 99,\n",
       " 103: 45,\n",
       " 105: [500, 600, 800],\n",
       " 106: (1, 2, 3, 4),\n",
       " 107: 'telangana'}"
      ]
     },
     "execution_count": 74,
     "metadata": {},
     "output_type": "execute_result"
    }
   ],
   "source": [
    "d"
   ]
  },
  {
   "cell_type": "code",
   "execution_count": 78,
   "id": "731215e1-de68-4ee4-8ad2-15df1c228514",
   "metadata": {},
   "outputs": [
    {
     "data": {
      "text/plain": [
       "{50: [1, 2, 3, 4], 'apple': (20, 4, 30, [20, 180, 40])}"
      ]
     },
     "execution_count": 78,
     "metadata": {},
     "output_type": "execute_result"
    }
   ],
   "source": [
    "d[101]"
   ]
  },
  {
   "cell_type": "code",
   "execution_count": 82,
   "id": "422bd8c8-1604-49e7-a1b8-4610e7bdc68a",
   "metadata": {},
   "outputs": [
    {
     "data": {
      "text/plain": [
       "180"
      ]
     },
     "execution_count": 82,
     "metadata": {},
     "output_type": "execute_result"
    }
   ],
   "source": [
    "d[101]['apple'][3][1]"
   ]
  },
  {
   "cell_type": "code",
   "execution_count": 86,
   "id": "f385f0e9-07c4-4e75-88d2-54b561865c11",
   "metadata": {},
   "outputs": [
    {
     "ename": "SyntaxError",
     "evalue": "incomplete input (318653623.py, line 1)",
     "output_type": "error",
     "traceback": [
      "\u001b[1;36m  Cell \u001b[1;32mIn[86], line 1\u001b[1;36m\u001b[0m\n\u001b[1;33m    d[106] = {'a':{30,40,50} , 'b':{555,777,999}, 'c':{'K',{'L':[11,22]}\u001b[0m\n\u001b[1;37m                                                                        ^\u001b[0m\n\u001b[1;31mSyntaxError\u001b[0m\u001b[1;31m:\u001b[0m incomplete input\n"
     ]
    }
   ],
   "source": [
    "d[106] = {'a':{30,40,50} , 'b':{555,777,999}, 'c':{'K',{'L':[11,22]}"
   ]
  },
  {
   "cell_type": "code",
   "execution_count": null,
   "id": "87fa4569-ffbe-459c-bd6c-262f073b9219",
   "metadata": {},
   "outputs": [],
   "source": []
  }
 ],
 "metadata": {
  "kernelspec": {
   "display_name": "Python 3 (ipykernel)",
   "language": "python",
   "name": "python3"
  },
  "language_info": {
   "codemirror_mode": {
    "name": "ipython",
    "version": 3
   },
   "file_extension": ".py",
   "mimetype": "text/x-python",
   "name": "python",
   "nbconvert_exporter": "python",
   "pygments_lexer": "ipython3",
   "version": "3.12.7"
  }
 },
 "nbformat": 4,
 "nbformat_minor": 5
}
