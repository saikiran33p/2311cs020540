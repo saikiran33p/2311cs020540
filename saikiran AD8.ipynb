{
 "cells": [
  {
   "cell_type": "markdown",
   "id": "01313da7-e06f-4c9a-bfd9-098356b76529",
   "metadata": {},
   "source": [
    "1]numpy for array operation\n",
    "|| 2]pandas for data manipulation and analysis\n",
    "|| 3]matplotlib and seaborn  for graphical analysis\n",
    "|| 4]sklearn for machine learning algorithms and techniques\n",
    "|| 5]statsmodels for statistical analysis\n",
    "|| 6]scipy for statistical analysis"
   ]
  },
  {
   "cell_type": "code",
   "execution_count": 1,
   "id": "8d64f951-905b-40ac-9f8e-caf6a2650219",
   "metadata": {},
   "outputs": [],
   "source": [
    "import numpy as np"
   ]
  },
  {
   "cell_type": "code",
   "execution_count": 33,
   "id": "55e7b192-7adb-4c8f-a5d6-ecf7cb225c6c",
   "metadata": {},
   "outputs": [],
   "source": [
    "j = [4,6,2,8,9,5]"
   ]
  },
  {
   "cell_type": "code",
   "execution_count": 34,
   "id": "e7bf8c51-9eb4-436f-8558-b50a8a6904cf",
   "metadata": {},
   "outputs": [
    {
     "data": {
      "text/plain": [
       "array([4, 6, 2, 8, 9, 5])"
      ]
     },
     "execution_count": 34,
     "metadata": {},
     "output_type": "execute_result"
    }
   ],
   "source": [
    "np.array(j) #array conversion "
   ]
  },
  {
   "cell_type": "code",
   "execution_count": 35,
   "id": "c348f13e-7c2d-41a4-8fc9-0223178d7301",
   "metadata": {},
   "outputs": [],
   "source": [
    "d = np.array(j)"
   ]
  },
  {
   "cell_type": "code",
   "execution_count": 36,
   "id": "d9217981-a06e-4ca8-941d-0ecd72f27de3",
   "metadata": {},
   "outputs": [
    {
     "data": {
      "text/plain": [
       "array([4, 6, 2, 8, 9, 5])"
      ]
     },
     "execution_count": 36,
     "metadata": {},
     "output_type": "execute_result"
    }
   ],
   "source": [
    "d"
   ]
  },
  {
   "cell_type": "code",
   "execution_count": 37,
   "id": "316d5947-41cf-4066-91d3-e2cede5eea21",
   "metadata": {},
   "outputs": [
    {
     "data": {
      "text/plain": [
       "numpy.ndarray"
      ]
     },
     "execution_count": 37,
     "metadata": {},
     "output_type": "execute_result"
    }
   ],
   "source": [
    "type(d)"
   ]
  },
  {
   "cell_type": "code",
   "execution_count": 38,
   "id": "f7d7725d-b7b5-4af6-8ea8-ca3177e1f95f",
   "metadata": {},
   "outputs": [
    {
     "data": {
      "text/plain": [
       "(6,)"
      ]
     },
     "execution_count": 38,
     "metadata": {},
     "output_type": "execute_result"
    }
   ],
   "source": [
    "d.shape #size of the array"
   ]
  },
  {
   "cell_type": "code",
   "execution_count": 39,
   "id": "be6796d7-6103-4d55-875e-49f016225cd5",
   "metadata": {},
   "outputs": [
    {
     "data": {
      "text/plain": [
       "1"
      ]
     },
     "execution_count": 39,
     "metadata": {},
     "output_type": "execute_result"
    }
   ],
   "source": [
    "d.ndim #ndim stands for dimension of the array like 1d,2d ettc.."
   ]
  },
  {
   "cell_type": "code",
   "execution_count": 40,
   "id": "4d6e2ad5-d190-4fa1-93b4-f2478ca4827a",
   "metadata": {},
   "outputs": [
    {
     "data": {
      "text/plain": [
       "6"
      ]
     },
     "execution_count": 40,
     "metadata": {},
     "output_type": "execute_result"
    }
   ],
   "source": [
    "d.size"
   ]
  },
  {
   "cell_type": "code",
   "execution_count": 52,
   "id": "0073712e-e4ae-4cfc-a4d0-ce9ca30b3043",
   "metadata": {},
   "outputs": [],
   "source": [
    "h = d.reshape(2,3)  #while reshape we need to take care for the size , after reshape the size of the array must same"
   ]
  },
  {
   "cell_type": "code",
   "execution_count": 54,
   "id": "5140d538-79f4-426c-9a99-8d76c3238a88",
   "metadata": {},
   "outputs": [
    {
     "data": {
      "text/plain": [
       "2"
      ]
     },
     "execution_count": 54,
     "metadata": {},
     "output_type": "execute_result"
    }
   ],
   "source": [
    "h.ndim  #two dimension"
   ]
  },
  {
   "cell_type": "code",
   "execution_count": 56,
   "id": "fbb9bdd2-b9d1-400a-b97a-aa15b13a4cc7",
   "metadata": {},
   "outputs": [
    {
     "ename": "ValueError",
     "evalue": "cannot reshape array of size 6 into shape (2,2,1)",
     "output_type": "error",
     "traceback": [
      "\u001b[1;31m---------------------------------------------------------------------------\u001b[0m",
      "\u001b[1;31mValueError\u001b[0m                                Traceback (most recent call last)",
      "Cell \u001b[1;32mIn[56], line 1\u001b[0m\n\u001b[1;32m----> 1\u001b[0m f \u001b[38;5;241m=\u001b[39m d\u001b[38;5;241m.\u001b[39mreshape(\u001b[38;5;241m2\u001b[39m,\u001b[38;5;241m2\u001b[39m,\u001b[38;5;241m1\u001b[39m)\n",
      "\u001b[1;31mValueError\u001b[0m: cannot reshape array of size 6 into shape (2,2,1)"
     ]
    }
   ],
   "source": [
    "# f = d.reshape()"
   ]
  },
  {
   "cell_type": "code",
   "execution_count": 60,
   "id": "a504b037-08ec-4a88-980c-c18a1d26f408",
   "metadata": {},
   "outputs": [
    {
     "data": {
      "text/plain": [
       "[[1, 5, 8, 3], [2, 4, 8, 3], [2, 12, 10, 3], [5, 3, 4, 9], [9, 3, 4, 5]]"
      ]
     },
     "execution_count": 60,
     "metadata": {},
     "output_type": "execute_result"
    }
   ],
   "source": [
    "s = [[1,5,8,3],[2,4,8,3],[2,12,10,3],[5,3,4,9],[9,3,4,5]]\n",
    "s"
   ]
  },
  {
   "cell_type": "code",
   "execution_count": 61,
   "id": "99fe38c3-9cc8-46e7-a164-17c016c213a2",
   "metadata": {},
   "outputs": [
    {
     "data": {
      "text/plain": [
       "list"
      ]
     },
     "execution_count": 61,
     "metadata": {},
     "output_type": "execute_result"
    }
   ],
   "source": [
    "type(s)"
   ]
  },
  {
   "cell_type": "code",
   "execution_count": 62,
   "id": "bffb69b5-61e9-49e7-9eca-ac14cc042c27",
   "metadata": {},
   "outputs": [
    {
     "data": {
      "text/plain": [
       "array([[ 1,  5,  8,  3],\n",
       "       [ 2,  4,  8,  3],\n",
       "       [ 2, 12, 10,  3],\n",
       "       [ 5,  3,  4,  9],\n",
       "       [ 9,  3,  4,  5]])"
      ]
     },
     "execution_count": 62,
     "metadata": {},
     "output_type": "execute_result"
    }
   ],
   "source": [
    "f = np.array(s)\n",
    "f"
   ]
  },
  {
   "cell_type": "code",
   "execution_count": 63,
   "id": "4c01d5f2-4616-4f1a-b9a7-002f0de7b466",
   "metadata": {},
   "outputs": [
    {
     "data": {
      "text/plain": [
       "(5, 4)"
      ]
     },
     "execution_count": 63,
     "metadata": {},
     "output_type": "execute_result"
    }
   ],
   "source": [
    "f.shape"
   ]
  },
  {
   "cell_type": "code",
   "execution_count": 64,
   "id": "2039000c-c855-4b6f-bdef-8d22bfb51cd9",
   "metadata": {},
   "outputs": [
    {
     "data": {
      "text/plain": [
       "20"
      ]
     },
     "execution_count": 64,
     "metadata": {},
     "output_type": "execute_result"
    }
   ],
   "source": [
    "f.size"
   ]
  },
  {
   "cell_type": "code",
   "execution_count": 65,
   "id": "b2d34ae3-9c39-49ad-9cbf-d8bbb5a7469b",
   "metadata": {},
   "outputs": [
    {
     "data": {
      "text/plain": [
       "2"
      ]
     },
     "execution_count": 65,
     "metadata": {},
     "output_type": "execute_result"
    }
   ],
   "source": [
    "f.ndim"
   ]
  },
  {
   "cell_type": "code",
   "execution_count": 66,
   "id": "53de5e43-8423-412d-8b99-f80439e06819",
   "metadata": {},
   "outputs": [
    {
     "data": {
      "text/plain": [
       "[[1, 5, 8, 3], [2, 4, 8, 3], [2, 12, 10, 3], [5, 3, 4, 9], [9, 3, 4, 5]]"
      ]
     },
     "execution_count": 66,
     "metadata": {},
     "output_type": "execute_result"
    }
   ],
   "source": [
    "s"
   ]
  },
  {
   "cell_type": "code",
   "execution_count": 69,
   "id": "b6e99277-c1c2-4a57-8ac8-d865600f8c38",
   "metadata": {},
   "outputs": [
    {
     "data": {
      "text/plain": [
       "array([[[ 1,  5],\n",
       "        [ 8,  3]],\n",
       "\n",
       "       [[ 2,  4],\n",
       "        [ 8,  3]],\n",
       "\n",
       "       [[ 2, 12],\n",
       "        [10,  3]],\n",
       "\n",
       "       [[ 5,  3],\n",
       "        [ 4,  9]],\n",
       "\n",
       "       [[ 9,  3],\n",
       "        [ 4,  5]]])"
      ]
     },
     "execution_count": 69,
     "metadata": {},
     "output_type": "execute_result"
    }
   ],
   "source": [
    "f.reshape(5,2,2)"
   ]
  },
  {
   "cell_type": "code",
   "execution_count": 70,
   "id": "f502a3fe-bea6-4e29-9259-6c5647ce9eaf",
   "metadata": {},
   "outputs": [
    {
     "data": {
      "text/plain": [
       "array([[[ 1,  5],\n",
       "        [ 8,  3],\n",
       "        [ 2,  4],\n",
       "        [ 8,  3],\n",
       "        [ 2, 12]],\n",
       "\n",
       "       [[10,  3],\n",
       "        [ 5,  3],\n",
       "        [ 4,  9],\n",
       "        [ 9,  3],\n",
       "        [ 4,  5]]])"
      ]
     },
     "execution_count": 70,
     "metadata": {},
     "output_type": "execute_result"
    }
   ],
   "source": [
    "f.reshape(2,5,2)"
   ]
  },
  {
   "cell_type": "code",
   "execution_count": 71,
   "id": "d8be1eb8-dde1-42c6-833b-015e42a2b281",
   "metadata": {},
   "outputs": [
    {
     "data": {
      "text/plain": [
       "array([[[ 1,  5,  8,  3,  2],\n",
       "        [ 4,  8,  3,  2, 12]],\n",
       "\n",
       "       [[10,  3,  5,  3,  4],\n",
       "        [ 9,  9,  3,  4,  5]]])"
      ]
     },
     "execution_count": 71,
     "metadata": {},
     "output_type": "execute_result"
    }
   ],
   "source": [
    "f.reshape(2,2,5)"
   ]
  },
  {
   "cell_type": "code",
   "execution_count": 72,
   "id": "6b90ee18-980b-4d01-b6c2-361b9f92f8ff",
   "metadata": {},
   "outputs": [],
   "source": [
    "z = f.reshape(5,2,2)"
   ]
  },
  {
   "cell_type": "code",
   "execution_count": 73,
   "id": "6cea960b-22c6-4da3-ae69-0ae10e6c129b",
   "metadata": {},
   "outputs": [
    {
     "data": {
      "text/plain": [
       "3"
      ]
     },
     "execution_count": 73,
     "metadata": {},
     "output_type": "execute_result"
    }
   ],
   "source": [
    "z.ndim"
   ]
  },
  {
   "cell_type": "code",
   "execution_count": 74,
   "id": "b7759a3e-942d-4d68-b1c0-38d00172d37c",
   "metadata": {},
   "outputs": [
    {
     "data": {
      "text/plain": [
       "(5, 2, 2)"
      ]
     },
     "execution_count": 74,
     "metadata": {},
     "output_type": "execute_result"
    }
   ],
   "source": [
    "z.shape"
   ]
  },
  {
   "cell_type": "code",
   "execution_count": 75,
   "id": "9a5ca84c-9b24-482d-997b-bf18441b86db",
   "metadata": {},
   "outputs": [
    {
     "data": {
      "text/plain": [
       "20"
      ]
     },
     "execution_count": 75,
     "metadata": {},
     "output_type": "execute_result"
    }
   ],
   "source": [
    "z.size"
   ]
  },
  {
   "cell_type": "code",
   "execution_count": 78,
   "id": "7dc4052e-c750-4d97-9475-0796d336204a",
   "metadata": {},
   "outputs": [
    {
     "data": {
      "text/plain": [
       "array([ 1,  5,  8,  3,  2,  4,  8,  3,  2, 12, 10,  3,  5,  3,  4,  9,  9,\n",
       "        3,  4,  5])"
      ]
     },
     "execution_count": 78,
     "metadata": {},
     "output_type": "execute_result"
    }
   ],
   "source": [
    "y = f.reshape(20,)\n",
    "y"
   ]
  },
  {
   "cell_type": "code",
   "execution_count": 79,
   "id": "1982b9e3-fc13-4333-b10e-ad92b6b2003c",
   "metadata": {},
   "outputs": [
    {
     "data": {
      "text/plain": [
       "(20,)"
      ]
     },
     "execution_count": 79,
     "metadata": {},
     "output_type": "execute_result"
    }
   ],
   "source": [
    "y.shape"
   ]
  },
  {
   "cell_type": "code",
   "execution_count": 80,
   "id": "66c8e7d6-47b3-4111-8bb2-4046327d03e8",
   "metadata": {},
   "outputs": [
    {
     "data": {
      "text/plain": [
       "1"
      ]
     },
     "execution_count": 80,
     "metadata": {},
     "output_type": "execute_result"
    }
   ],
   "source": [
    "y.ndim"
   ]
  },
  {
   "cell_type": "code",
   "execution_count": 81,
   "id": "e3127c50-c7fb-4f15-bda6-746bd3d9cfde",
   "metadata": {},
   "outputs": [
    {
     "data": {
      "text/plain": [
       "array([[ 1],\n",
       "       [ 5],\n",
       "       [ 8],\n",
       "       [ 3],\n",
       "       [ 2],\n",
       "       [ 4],\n",
       "       [ 8],\n",
       "       [ 3],\n",
       "       [ 2],\n",
       "       [12],\n",
       "       [10],\n",
       "       [ 3],\n",
       "       [ 5],\n",
       "       [ 3],\n",
       "       [ 4],\n",
       "       [ 9],\n",
       "       [ 9],\n",
       "       [ 3],\n",
       "       [ 4],\n",
       "       [ 5]])"
      ]
     },
     "execution_count": 81,
     "metadata": {},
     "output_type": "execute_result"
    }
   ],
   "source": [
    "o = f.reshape(20,1)\n",
    "o"
   ]
  },
  {
   "cell_type": "code",
   "execution_count": 82,
   "id": "9e9e213f-dca8-4d20-848e-02bd07ca094e",
   "metadata": {},
   "outputs": [
    {
     "data": {
      "text/plain": [
       "2"
      ]
     },
     "execution_count": 82,
     "metadata": {},
     "output_type": "execute_result"
    }
   ],
   "source": [
    "o.ndim"
   ]
  },
  {
   "cell_type": "code",
   "execution_count": 87,
   "id": "397ce200-2610-423c-9501-a7c310369919",
   "metadata": {},
   "outputs": [
    {
     "data": {
      "text/plain": [
       "array([[[ 1,  5,  8,  3,  2,  4,  8,  3,  2, 12, 10,  3,  5,  3,  4,  9,\n",
       "          9,  3,  4,  5]]])"
      ]
     },
     "execution_count": 87,
     "metadata": {},
     "output_type": "execute_result"
    }
   ],
   "source": [
    "p = f.reshape(1,1,20)\n",
    "p"
   ]
  },
  {
   "cell_type": "code",
   "execution_count": 88,
   "id": "5daeb90f-1453-4c06-af59-d9007f403c03",
   "metadata": {},
   "outputs": [],
   "source": [
    "q = f.reshape(2,2,1,5)"
   ]
  },
  {
   "cell_type": "code",
   "execution_count": 89,
   "id": "82d427f4-c163-4967-b219-77c3a83769bf",
   "metadata": {},
   "outputs": [
    {
     "data": {
      "text/plain": [
       "array([[[[ 1,  5,  8,  3,  2]],\n",
       "\n",
       "        [[ 4,  8,  3,  2, 12]]],\n",
       "\n",
       "\n",
       "       [[[10,  3,  5,  3,  4]],\n",
       "\n",
       "        [[ 9,  9,  3,  4,  5]]]])"
      ]
     },
     "execution_count": 89,
     "metadata": {},
     "output_type": "execute_result"
    }
   ],
   "source": [
    "q"
   ]
  },
  {
   "cell_type": "code",
   "execution_count": 90,
   "id": "63179013-920b-4e3d-9767-ac759af46819",
   "metadata": {},
   "outputs": [
    {
     "data": {
      "text/plain": [
       "4"
      ]
     },
     "execution_count": 90,
     "metadata": {},
     "output_type": "execute_result"
    }
   ],
   "source": [
    "q.ndim"
   ]
  },
  {
   "cell_type": "code",
   "execution_count": 104,
   "id": "a7c3ffe8-bc3e-4c18-aed5-ea961ab6a2a6",
   "metadata": {},
   "outputs": [],
   "source": [
    "l = (3,4,5,6)"
   ]
  },
  {
   "cell_type": "code",
   "execution_count": 105,
   "id": "7fa931a8-f48e-466b-bb23-82040eec2b8d",
   "metadata": {},
   "outputs": [
    {
     "data": {
      "text/plain": [
       "(3, 4, 5, 6)"
      ]
     },
     "execution_count": 105,
     "metadata": {},
     "output_type": "execute_result"
    }
   ],
   "source": [
    "l"
   ]
  },
  {
   "cell_type": "code",
   "execution_count": 112,
   "id": "94d6ee4a-edc7-47e2-a4e8-77651d9005a7",
   "metadata": {},
   "outputs": [
    {
     "data": {
      "text/plain": [
       "(1, 2, 3, 4, 5, 6, 7, 8, 9, 10, 11, 12, 13, 14, 15, 16, 17, 18, 19)"
      ]
     },
     "execution_count": 112,
     "metadata": {},
     "output_type": "execute_result"
    }
   ],
   "source": [
    "tuple(range(1,20)) #print the value (starting,end-1,skip)"
   ]
  },
  {
   "cell_type": "code",
   "execution_count": 114,
   "id": "eb3b5a30-b013-42ae-8f60-ca88c9c09bba",
   "metadata": {},
   "outputs": [
    {
     "data": {
      "text/plain": [
       "(1, 101, 201, 301, 401, 501)"
      ]
     },
     "execution_count": 114,
     "metadata": {},
     "output_type": "execute_result"
    }
   ],
   "source": [
    "tuple(range(1,600,100))"
   ]
  },
  {
   "cell_type": "code",
   "execution_count": 118,
   "id": "c6053365-35cd-460f-bb8e-855b8323301b",
   "metadata": {},
   "outputs": [
    {
     "data": {
      "text/plain": [
       "{-10, -9, -8, -7, -6, -5, -4, -3, -2, -1}"
      ]
     },
     "execution_count": 118,
     "metadata": {},
     "output_type": "execute_result"
    }
   ],
   "source": [
    "set(range(-1,-11,-1))"
   ]
  },
  {
   "cell_type": "code",
   "execution_count": 119,
   "id": "b2bddfcc-b915-40b3-8f4f-5ad4558db840",
   "metadata": {},
   "outputs": [
    {
     "ename": "TypeError",
     "evalue": "'float' object cannot be interpreted as an integer",
     "output_type": "error",
     "traceback": [
      "\u001b[1;31m---------------------------------------------------------------------------\u001b[0m",
      "\u001b[1;31mTypeError\u001b[0m                                 Traceback (most recent call last)",
      "Cell \u001b[1;32mIn[119], line 1\u001b[0m\n\u001b[1;32m----> 1\u001b[0m \u001b[38;5;28mtuple\u001b[39m(\u001b[38;5;28mrange\u001b[39m(\u001b[38;5;241m2.5\u001b[39m,\u001b[38;5;241m5\u001b[39m,\u001b[38;5;241m0.5\u001b[39m))\n",
      "\u001b[1;31mTypeError\u001b[0m: 'float' object cannot be interpreted as an integer"
     ]
    }
   ],
   "source": [
    "tuple(range(2.5,5,0.5))  #name function only work in integer (int)"
   ]
  },
  {
   "cell_type": "code",
   "execution_count": 121,
   "id": "00a07333-c2c3-46b1-8510-6dafcc211665",
   "metadata": {},
   "outputs": [
    {
     "data": {
      "text/plain": [
       "array([2.5, 3. , 3.5, 4. , 4.5])"
      ]
     },
     "execution_count": 121,
     "metadata": {},
     "output_type": "execute_result"
    }
   ],
   "source": [
    "np.arange(2.5,5,0.5) # by using numpy we can use float "
   ]
  },
  {
   "cell_type": "code",
   "execution_count": 122,
   "id": "443a19de-cd09-4ad9-b0ea-52fe00904673",
   "metadata": {},
   "outputs": [
    {
     "data": {
      "text/plain": [
       "range(5, 10)"
      ]
     },
     "execution_count": 122,
     "metadata": {},
     "output_type": "execute_result"
    }
   ],
   "source": [
    "range(5,10)"
   ]
  },
  {
   "cell_type": "code",
   "execution_count": 124,
   "id": "d764fbcc-04b8-49d6-9c73-46aadaa8c346",
   "metadata": {},
   "outputs": [
    {
     "name": "stdout",
     "output_type": "stream",
     "text": [
      "data 5\n",
      "data 6\n",
      "data 7\n",
      "data 8\n",
      "data 9\n"
     ]
    }
   ],
   "source": [
    "for i in range(5,10):\n",
    "    print(\"data\" , i)"
   ]
  },
  {
   "cell_type": "code",
   "execution_count": 127,
   "id": "094e7365-b576-4947-a65d-0c7ae04c16c6",
   "metadata": {},
   "outputs": [
    {
     "data": {
      "text/plain": [
       "[5, 87, 23, 46, 62, 84, 80, 45, 77, 33, 80]"
      ]
     },
     "execution_count": 127,
     "metadata": {},
     "output_type": "execute_result"
    }
   ],
   "source": [
    "u = [5,87,23,46,62,84,80,45,77,33,80]\n",
    "u"
   ]
  },
  {
   "cell_type": "code",
   "execution_count": 138,
   "id": "c317a711-fbf7-4b26-9520-55bac54e344c",
   "metadata": {},
   "outputs": [],
   "source": [
    "x=[]\n",
    "y=[]\n",
    "for i in range(len(u)):# to itrate over the position we use len\n",
    "    if i%2==0:\n",
    "        x.append(u[i])\n",
    "    else:\n",
    "        y.append(u[i])"
   ]
  },
  {
   "cell_type": "code",
   "execution_count": 139,
   "id": "0f4cef40-86d4-4c91-b85a-7fd86bc6e57c",
   "metadata": {},
   "outputs": [
    {
     "name": "stdout",
     "output_type": "stream",
     "text": [
      "0\n",
      "1\n",
      "2\n",
      "3\n",
      "4\n",
      "5\n",
      "6\n",
      "7\n",
      "8\n",
      "9\n",
      "10\n"
     ]
    }
   ],
   "source": [
    "for i in range(len(u)):\n",
    "    print(i)"
   ]
  },
  {
   "cell_type": "code",
   "execution_count": null,
   "id": "e415806a-e00a-4102-a1d6-f8a492dc4f03",
   "metadata": {},
   "outputs": [],
   "source": []
  }
 ],
 "metadata": {
  "kernelspec": {
   "display_name": "Python 3 (ipykernel)",
   "language": "python",
   "name": "python3"
  },
  "language_info": {
   "codemirror_mode": {
    "name": "ipython",
    "version": 3
   },
   "file_extension": ".py",
   "mimetype": "text/x-python",
   "name": "python",
   "nbconvert_exporter": "python",
   "pygments_lexer": "ipython3",
   "version": "3.12.7"
  }
 },
 "nbformat": 4,
 "nbformat_minor": 5
}
