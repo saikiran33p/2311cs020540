{
 "cells": [
  {
   "cell_type": "code",
   "execution_count": 2,
   "id": "447fa835-433c-4e0b-8433-5811eb1da4e7",
   "metadata": {},
   "outputs": [],
   "source": [
    "import pandas as pd\n",
    "import numpy as np"
   ]
  },
  {
   "cell_type": "code",
   "execution_count": 5,
   "id": "08faa974-6f62-4680-a193-447c59b5cedb",
   "metadata": {},
   "outputs": [],
   "source": [
    "a=np.random.randint(30,50,15)"
   ]
  },
  {
   "cell_type": "code",
   "execution_count": 6,
   "id": "ca92ec4d-fe75-463a-959c-d493bc9838d5",
   "metadata": {},
   "outputs": [
    {
     "data": {
      "text/plain": [
       "array([30, 40, 44, 36, 32, 34, 37, 32, 36, 45, 38, 47, 34, 47, 49])"
      ]
     },
     "execution_count": 6,
     "metadata": {},
     "output_type": "execute_result"
    }
   ],
   "source": [
    "a"
   ]
  },
  {
   "cell_type": "code",
   "execution_count": 7,
   "id": "19b0370b-96e7-4ec3-9b83-b3e0e4981ece",
   "metadata": {},
   "outputs": [
    {
     "data": {
      "text/plain": [
       "1"
      ]
     },
     "execution_count": 7,
     "metadata": {},
     "output_type": "execute_result"
    }
   ],
   "source": [
    "a.ndim"
   ]
  },
  {
   "cell_type": "code",
   "execution_count": 8,
   "id": "2642f33d-7b07-42d9-9173-806ad7cfc62b",
   "metadata": {},
   "outputs": [
    {
     "data": {
      "text/plain": [
       "array([47, 34, 47, 38, 45, 36, 32, 37])"
      ]
     },
     "execution_count": 8,
     "metadata": {},
     "output_type": "execute_result"
    }
   ],
   "source": [
    "a[-2:-10:-1]"
   ]
  },
  {
   "cell_type": "code",
   "execution_count": 27,
   "id": "ca8d51ec-267b-4e2e-94e6-1f78b99f8d88",
   "metadata": {},
   "outputs": [
    {
     "data": {
      "text/plain": [
       "array([[33, 15, 18, 37, 44, 34, 31, 23],\n",
       "       [31, 29, 48, 25, 47, 39, 39, 18],\n",
       "       [30, 41, 26, 21, 28, 29, 17, 38],\n",
       "       [49, 47, 16, 15, 48, 22, 44, 35],\n",
       "       [23, 30, 25, 34, 42, 16, 39, 35],\n",
       "       [45, 45, 21, 45, 37, 48, 23, 47],\n",
       "       [30, 37, 37, 17, 45, 24, 44, 39]])"
      ]
     },
     "execution_count": 27,
     "metadata": {},
     "output_type": "execute_result"
    }
   ],
   "source": [
    "np.random.seed(94)\n",
    "b=np.random.randint(15,50,(7,8))\n",
    "b"
   ]
  },
  {
   "cell_type": "code",
   "execution_count": 28,
   "id": "72d2899e-d4ab-4fd5-a4b4-7f6729fd8d84",
   "metadata": {},
   "outputs": [
    {
     "data": {
      "text/plain": [
       "array([49, 47, 16, 15, 48, 22, 44, 35])"
      ]
     },
     "execution_count": 28,
     "metadata": {},
     "output_type": "execute_result"
    }
   ],
   "source": [
    "b[-4] #4th row from bottom"
   ]
  },
  {
   "cell_type": "code",
   "execution_count": 29,
   "id": "d2e650a6-8356-416c-b335-550220642e1d",
   "metadata": {},
   "outputs": [
    {
     "data": {
      "text/plain": [
       "array([30, 41, 26, 21, 28, 29, 17, 38])"
      ]
     },
     "execution_count": 29,
     "metadata": {},
     "output_type": "execute_result"
    }
   ],
   "source": [
    "b[2]"
   ]
  },
  {
   "cell_type": "code",
   "execution_count": 30,
   "id": "462304b0-06cd-483c-acc2-18c8a07bab9a",
   "metadata": {},
   "outputs": [
    {
     "data": {
      "text/plain": [
       "array([23, 18, 38, 35, 35, 47, 39])"
      ]
     },
     "execution_count": 30,
     "metadata": {},
     "output_type": "execute_result"
    }
   ],
   "source": [
    "b[:,7] #7th column"
   ]
  },
  {
   "cell_type": "code",
   "execution_count": 31,
   "id": "8835748d-6a16-4cf9-b5b4-0581b75d0e13",
   "metadata": {},
   "outputs": [
    {
     "data": {
      "text/plain": [
       "48"
      ]
     },
     "execution_count": 31,
     "metadata": {},
     "output_type": "execute_result"
    }
   ],
   "source": [
    "b[-2,5]"
   ]
  },
  {
   "cell_type": "code",
   "execution_count": 32,
   "id": "bcd7a5a5-8487-4848-b194-4a19b554f4db",
   "metadata": {},
   "outputs": [
    {
     "data": {
      "text/plain": [
       "35"
      ]
     },
     "execution_count": 32,
     "metadata": {},
     "output_type": "execute_result"
    }
   ],
   "source": [
    "b[-4,-1]"
   ]
  },
  {
   "cell_type": "code",
   "execution_count": 33,
   "id": "94b1c23f-3e72-42f7-8737-da6f831e5187",
   "metadata": {},
   "outputs": [
    {
     "data": {
      "text/plain": [
       "47"
      ]
     },
     "execution_count": 33,
     "metadata": {},
     "output_type": "execute_result"
    }
   ],
   "source": [
    "b[3,1]"
   ]
  },
  {
   "cell_type": "code",
   "execution_count": 34,
   "id": "65f8e633-fa00-479b-ac7f-f6f72d6ebcc2",
   "metadata": {},
   "outputs": [
    {
     "data": {
      "text/plain": [
       "array([[29, 48, 25, 47],\n",
       "       [41, 26, 21, 28],\n",
       "       [47, 16, 15, 48],\n",
       "       [30, 25, 34, 42]])"
      ]
     },
     "execution_count": 34,
     "metadata": {},
     "output_type": "execute_result"
    }
   ],
   "source": [
    "b[1:5,1:5]"
   ]
  },
  {
   "cell_type": "code",
   "execution_count": 35,
   "id": "15a5bb63-f6ca-447b-a085-a2a387558814",
   "metadata": {},
   "outputs": [
    {
     "data": {
      "text/plain": [
       "array([[31, 29, 48, 25, 47, 39, 39, 18],\n",
       "       [30, 41, 26, 21, 28, 29, 17, 38],\n",
       "       [49, 47, 16, 15, 48, 22, 44, 35],\n",
       "       [23, 30, 25, 34, 42, 16, 39, 35]])"
      ]
     },
     "execution_count": 35,
     "metadata": {},
     "output_type": "execute_result"
    }
   ],
   "source": [
    "b[1:5]"
   ]
  },
  {
   "cell_type": "markdown",
   "id": "57df6243-2ba9-4ff7-9be5-7e3a9d891d87",
   "metadata": {},
   "source": [
    "array[row_start : row-end : row-step ,col_start : col-end : col_step]"
   ]
  },
  {
   "cell_type": "code",
   "execution_count": 36,
   "id": "723e0201-30d0-4a84-bd1c-3df47f8fc49f",
   "metadata": {},
   "outputs": [
    {
     "data": {
      "text/plain": [
       "array([[33, 15, 18, 37, 44, 34, 31, 23],\n",
       "       [31, 29, 48, 25, 47, 39, 39, 18],\n",
       "       [30, 41, 26, 21, 28, 29, 17, 38],\n",
       "       [49, 47, 16, 15, 48, 22, 44, 35],\n",
       "       [23, 30, 25, 34, 42, 16, 39, 35],\n",
       "       [45, 45, 21, 45, 37, 48, 23, 47],\n",
       "       [30, 37, 37, 17, 45, 24, 44, 39]])"
      ]
     },
     "execution_count": 36,
     "metadata": {},
     "output_type": "execute_result"
    }
   ],
   "source": [
    "b"
   ]
  },
  {
   "cell_type": "code",
   "execution_count": 37,
   "id": "731486a7-a851-4f30-919a-63701ae78a49",
   "metadata": {},
   "outputs": [
    {
     "data": {
      "text/plain": [
       "array([[16, 15, 48],\n",
       "       [25, 34, 42],\n",
       "       [21, 45, 37],\n",
       "       [37, 17, 45]])"
      ]
     },
     "execution_count": 37,
     "metadata": {},
     "output_type": "execute_result"
    }
   ],
   "source": [
    "b[3:7,2:5]"
   ]
  },
  {
   "cell_type": "code",
   "execution_count": 47,
   "id": "4d51ae01-507a-48fb-9955-ee045f27826a",
   "metadata": {},
   "outputs": [
    {
     "data": {
      "text/plain": [
       "array([[29, 48, 25, 47, 39, 39],\n",
       "       [41, 26, 21, 28, 29, 17],\n",
       "       [47, 16, 15, 48, 22, 44],\n",
       "       [30, 25, 34, 42, 16, 39],\n",
       "       [45, 21, 45, 37, 48, 23],\n",
       "       [37, 37, 17, 45, 24, 44]])"
      ]
     },
     "execution_count": 47,
     "metadata": {},
     "output_type": "execute_result"
    }
   ],
   "source": [
    "b[1:7,1:7]"
   ]
  },
  {
   "cell_type": "code",
   "execution_count": 61,
   "id": "cbe88d6a-a2d4-48ac-9c1e-1dbce69b398b",
   "metadata": {},
   "outputs": [
    {
     "data": {
      "text/plain": [
       "array([[29, 48, 25, 47, 39, 39],\n",
       "       [41, 26, 21, 28, 29, 17],\n",
       "       [47, 16, 15, 48, 22, 44],\n",
       "       [30, 25, 34, 42, 16, 39],\n",
       "       [45, 21, 45, 37, 48, 23],\n",
       "       [37, 37, 17, 45, 24, 44]])"
      ]
     },
     "execution_count": 61,
     "metadata": {},
     "output_type": "execute_result"
    }
   ],
   "source": [
    "b[-6::1,-7:-1:1]"
   ]
  },
  {
   "cell_type": "code",
   "execution_count": 62,
   "id": "9815f241-31e7-4b5c-92fb-353043d73523",
   "metadata": {},
   "outputs": [
    {
     "data": {
      "text/plain": [
       "array([[33, 15, 18, 37, 44, 34, 31, 23],\n",
       "       [31, 29, 48, 25, 47, 39, 39, 18],\n",
       "       [30, 41, 26, 21, 28, 29, 17, 38],\n",
       "       [49, 47, 16, 15, 48, 22, 44, 35],\n",
       "       [23, 30, 25, 34, 42, 16, 39, 35],\n",
       "       [45, 45, 21, 45, 37, 48, 23, 47],\n",
       "       [30, 37, 37, 17, 45, 24, 44, 39]])"
      ]
     },
     "execution_count": 62,
     "metadata": {},
     "output_type": "execute_result"
    }
   ],
   "source": [
    "b"
   ]
  },
  {
   "cell_type": "markdown",
   "id": "125c2557-dda8-4844-8660-20c9ca2ba788",
   "metadata": {},
   "source": [
    "31,48,47,39\n",
    "49,16,48,44\n",
    "45,21,37,23\n",
    "find?"
   ]
  },
  {
   "cell_type": "code",
   "execution_count": 68,
   "id": "991e97df-767a-4372-a27d-6b6760aff341",
   "metadata": {},
   "outputs": [
    {
     "data": {
      "text/plain": [
       "array([44, 48, 47, 41, 49, 47, 48, 44, 42, 45, 45, 45, 48, 47, 45, 44])"
      ]
     },
     "execution_count": 68,
     "metadata": {},
     "output_type": "execute_result"
    }
   ],
   "source": [
    "b[b>40]"
   ]
  },
  {
   "cell_type": "code",
   "execution_count": 69,
   "id": "527e740c-c46b-4973-84ff-4b4931cf1618",
   "metadata": {},
   "outputs": [
    {
     "data": {
      "text/plain": [
       "(array([0, 1, 1, 2, 3, 3, 3, 3, 4, 5, 5, 5, 5, 5, 6, 6], dtype=int64),\n",
       " array([4, 2, 4, 1, 0, 1, 4, 6, 4, 0, 1, 3, 5, 7, 4, 6], dtype=int64))"
      ]
     },
     "execution_count": 69,
     "metadata": {},
     "output_type": "execute_result"
    }
   ],
   "source": [
    "np.where(b>40)"
   ]
  },
  {
   "cell_type": "code",
   "execution_count": null,
   "id": "a54d8783-cb6f-4386-9e9c-27020d44dcee",
   "metadata": {},
   "outputs": [],
   "source": []
  }
 ],
 "metadata": {
  "kernelspec": {
   "display_name": "Python 3 (ipykernel)",
   "language": "python",
   "name": "python3"
  },
  "language_info": {
   "codemirror_mode": {
    "name": "ipython",
    "version": 3
   },
   "file_extension": ".py",
   "mimetype": "text/x-python",
   "name": "python",
   "nbconvert_exporter": "python",
   "pygments_lexer": "ipython3",
   "version": "3.12.7"
  }
 },
 "nbformat": 4,
 "nbformat_minor": 5
}
