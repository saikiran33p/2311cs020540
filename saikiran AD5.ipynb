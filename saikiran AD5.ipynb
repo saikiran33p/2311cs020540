{
 "cells": [
  {
   "cell_type": "markdown",
   "id": "62e250c6-a1a1-4667-949d-709c9ca7e290",
   "metadata": {},
   "source": [
    "write a program to know number is positive negative or zero"
   ]
  },
  {
   "cell_type": "code",
   "execution_count": 5,
   "id": "ad7e858f-3a8e-49bb-b894-e8ac9ac3f615",
   "metadata": {},
   "outputs": [
    {
     "name": "stdout",
     "output_type": "stream",
     "text": [
      "neg\n"
     ]
    }
   ],
   "source": [
    "x=-5.8\n",
    "if x>0:\n",
    "    print('pos')\n",
    "elif x<0:\n",
    "    print('neg')\n",
    "else:\n",
    "    print('zero')"
   ]
  },
  {
   "cell_type": "code",
   "execution_count": 11,
   "id": "4084883f-7bf4-4ffd-9486-572616c1a330",
   "metadata": {},
   "outputs": [
    {
     "name": "stdout",
     "output_type": "stream",
     "text": [
      "O\n"
     ]
    }
   ],
   "source": [
    "y=3\n",
    "if y>5:\n",
    "    print('M')\n",
    "elif y>4:\n",
    "    print('K')\n",
    "elif y>7:\n",
    "    print('H')\n",
    "else:\n",
    "    print('O')"
   ]
  },
  {
   "cell_type": "code",
   "execution_count": 12,
   "id": "a1445502-0644-49ff-97e0-d19dbf08187d",
   "metadata": {},
   "outputs": [],
   "source": [
    "t = 'hyderabad'"
   ]
  },
  {
   "cell_type": "code",
   "execution_count": 13,
   "id": "01d4d94c-eef2-4556-8332-907ec1cf9a46",
   "metadata": {},
   "outputs": [
    {
     "data": {
      "text/plain": [
       "str"
      ]
     },
     "execution_count": 13,
     "metadata": {},
     "output_type": "execute_result"
    }
   ],
   "source": [
    "type(t)"
   ]
  },
  {
   "cell_type": "code",
   "execution_count": 14,
   "id": "a5448f38-70fc-4120-9771-23e8cccdfe64",
   "metadata": {},
   "outputs": [
    {
     "data": {
      "text/plain": [
       "'y'"
      ]
     },
     "execution_count": 14,
     "metadata": {},
     "output_type": "execute_result"
    }
   ],
   "source": [
    "t[1]"
   ]
  },
  {
   "cell_type": "code",
   "execution_count": 15,
   "id": "93003b39-b0ad-4456-9830-e5332ebf0b5b",
   "metadata": {},
   "outputs": [
    {
     "data": {
      "text/plain": [
       "'d'"
      ]
     },
     "execution_count": 15,
     "metadata": {},
     "output_type": "execute_result"
    }
   ],
   "source": [
    "t[-1]"
   ]
  },
  {
   "cell_type": "code",
   "execution_count": 16,
   "id": "345bb016-76fe-4de6-958c-41f1e3d56952",
   "metadata": {},
   "outputs": [
    {
     "data": {
      "text/plain": [
       "'yderaba'"
      ]
     },
     "execution_count": 16,
     "metadata": {},
     "output_type": "execute_result"
    }
   ],
   "source": [
    "t[1:-1]"
   ]
  },
  {
   "cell_type": "code",
   "execution_count": 17,
   "id": "27fb307e-66ac-4265-9655-0f5a90844a61",
   "metadata": {},
   "outputs": [
    {
     "data": {
      "text/plain": [
       "'a'"
      ]
     },
     "execution_count": 17,
     "metadata": {},
     "output_type": "execute_result"
    }
   ],
   "source": [
    "t[7:-1]"
   ]
  },
  {
   "cell_type": "code",
   "execution_count": 33,
   "id": "52baef73-8000-4f8a-a22e-061100d9983f",
   "metadata": {},
   "outputs": [
    {
     "name": "stdout",
     "output_type": "stream",
     "text": [
      "yes\n"
     ]
    }
   ],
   "source": [
    "x = 'telangana'\n",
    "x = 'Tiger'\n",
    "x = 'ten'\n",
    "if x[0]=='t' or x[0]=='T':\n",
    "    print('yes')\n",
    "else: \n",
    "    print('no')"
   ]
  },
  {
   "cell_type": "code",
   "execution_count": 38,
   "id": "e0de52dc-4d47-438f-a522-1eb5ae7b4489",
   "metadata": {},
   "outputs": [
    {
     "name": "stdout",
     "output_type": "stream",
     "text": [
      "yes\n"
     ]
    }
   ],
   "source": [
    "x = 'shimla'\n",
    "if x[0]=='s' or x[1]=='h'or x[3]=='m' :\n",
    "    print('yes')\n",
    "else:\n",
    "    print('no')"
   ]
  },
  {
   "cell_type": "code",
   "execution_count": 49,
   "id": "40d48aad-6921-4359-bc0f-3dfcc6fceb07",
   "metadata": {},
   "outputs": [
    {
     "name": "stdout",
     "output_type": "stream",
     "text": [
      "yes\n"
     ]
    }
   ],
   "source": [
    "A = 'Shimla'\n",
    "if A[0].lower() == 's' or 'h' or 'm':\n",
    "    print('yes')\n",
    "else:\n",
    "    print('no')"
   ]
  },
  {
   "cell_type": "code",
   "execution_count": 47,
   "id": "f4614fa3-2797-474a-a1dd-f708856bc313",
   "metadata": {},
   "outputs": [
    {
     "name": "stdout",
     "output_type": "stream",
     "text": [
      "yes\n"
     ]
    }
   ],
   "source": [
    "x = 'shimla'\n",
    "if x[0].lower() in ('s','h','m') :\n",
    "    print('yes')\n",
    "else:\n",
    "    print('no')"
   ]
  },
  {
   "cell_type": "code",
   "execution_count": null,
   "id": "46efab11-a0f6-4d0b-9597-c503ac3111fd",
   "metadata": {},
   "outputs": [],
   "source": []
  }
 ],
 "metadata": {
  "kernelspec": {
   "display_name": "Python 3 (ipykernel)",
   "language": "python",
   "name": "python3"
  },
  "language_info": {
   "codemirror_mode": {
    "name": "ipython",
    "version": 3
   },
   "file_extension": ".py",
   "mimetype": "text/x-python",
   "name": "python",
   "nbconvert_exporter": "python",
   "pygments_lexer": "ipython3",
   "version": "3.12.7"
  }
 },
 "nbformat": 4,
 "nbformat_minor": 5
}
