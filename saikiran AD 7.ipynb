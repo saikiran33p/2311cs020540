{
 "cells": [
  {
   "cell_type": "markdown",
   "id": "73ef8f1a",
   "metadata": {},
   "source": [
    "functions "
   ]
  },
  {
   "cell_type": "markdown",
   "id": "1a610cf0",
   "metadata": {},
   "source": [
    "function is define as def keyword"
   ]
  },
  {
   "cell_type": "code",
   "execution_count": 2,
   "id": "05fea936",
   "metadata": {},
   "outputs": [
    {
     "data": {
      "text/plain": [
       "'malla reddy university'"
      ]
     },
     "execution_count": 2,
     "metadata": {},
     "output_type": "execute_result"
    }
   ],
   "source": [
    "y = 'malla reddy university'\n",
    "y"
   ]
  },
  {
   "cell_type": "code",
   "execution_count": 3,
   "id": "1485abbc",
   "metadata": {},
   "outputs": [
    {
     "data": {
      "text/plain": [
       "2"
      ]
     },
     "execution_count": 3,
     "metadata": {},
     "output_type": "execute_result"
    }
   ],
   "source": [
    "y.count('a')  # this are the some default function which come by default"
   ]
  },
  {
   "cell_type": "code",
   "execution_count": 4,
   "id": "f170ccc0",
   "metadata": {},
   "outputs": [
    {
     "ename": "SyntaxError",
     "evalue": "invalid syntax (424049635.py, line 3)",
     "output_type": "error",
     "traceback": [
      "\u001b[1;36m  Cell \u001b[1;32mIn[4], line 3\u001b[1;36m\u001b[0m\n\u001b[1;33m    block of code\u001b[0m\n\u001b[1;37m          ^\u001b[0m\n\u001b[1;31mSyntaxError\u001b[0m\u001b[1;31m:\u001b[0m invalid syntax\n"
     ]
    }
   ],
   "source": [
    "# structure of functio \n",
    "def functionName(parameter):\n",
    "    block of code\n",
    "    return output"
   ]
  },
  {
   "cell_type": "code",
   "execution_count": 5,
   "id": "bf92af2e",
   "metadata": {},
   "outputs": [],
   "source": [
    "def calArea(r):\n",
    "    a = 3.14*r*r\n",
    "    return a   #always return value instead of print "
   ]
  },
  {
   "cell_type": "code",
   "execution_count": 6,
   "id": "305ad7d3",
   "metadata": {},
   "outputs": [
    {
     "data": {
      "text/plain": [
       "314.0"
      ]
     },
     "execution_count": 6,
     "metadata": {},
     "output_type": "execute_result"
    }
   ],
   "source": [
    "calArea(10)"
   ]
  },
  {
   "cell_type": "code",
   "execution_count": 7,
   "id": "c5f3b168",
   "metadata": {},
   "outputs": [
    {
     "data": {
      "text/plain": [
       "12.56"
      ]
     },
     "execution_count": 7,
     "metadata": {},
     "output_type": "execute_result"
    }
   ],
   "source": [
    "w = calArea(2)\n",
    "w"
   ]
  },
  {
   "cell_type": "code",
   "execution_count": 8,
   "id": "d9fa6047",
   "metadata": {},
   "outputs": [
    {
     "data": {
      "text/plain": [
       "float"
      ]
     },
     "execution_count": 8,
     "metadata": {},
     "output_type": "execute_result"
    }
   ],
   "source": [
    "type(w)"
   ]
  },
  {
   "cell_type": "code",
   "execution_count": 9,
   "id": "965cd240",
   "metadata": {},
   "outputs": [
    {
     "data": {
      "text/plain": [
       "18.560000000000002"
      ]
     },
     "execution_count": 9,
     "metadata": {},
     "output_type": "execute_result"
    }
   ],
   "source": [
    "w + 6  #if we print the value in calArea function it wont give the output for this but we used return so it gives the output because it return the value with datatype and print \n",
    "        # print statement have none type"
   ]
  },
  {
   "cell_type": "code",
   "execution_count": 15,
   "id": "086971dd",
   "metadata": {},
   "outputs": [],
   "source": [
    "def sum(a , b):\n",
    "    c = a+b\n",
    "    return c"
   ]
  },
  {
   "cell_type": "code",
   "execution_count": 17,
   "id": "24c0829d",
   "metadata": {},
   "outputs": [],
   "source": [
    "d = sum(3,4)"
   ]
  },
  {
   "cell_type": "code",
   "execution_count": 18,
   "id": "a08a865c",
   "metadata": {},
   "outputs": [
    {
     "data": {
      "text/plain": [
       "7"
      ]
     },
     "execution_count": 18,
     "metadata": {},
     "output_type": "execute_result"
    }
   ],
   "source": [
    "d"
   ]
  },
  {
   "cell_type": "code",
   "execution_count": 19,
   "id": "9b66b70d",
   "metadata": {},
   "outputs": [
    {
     "data": {
      "text/plain": [
       "int"
      ]
     },
     "execution_count": 19,
     "metadata": {},
     "output_type": "execute_result"
    }
   ],
   "source": [
    "type(d)  #return "
   ]
  },
  {
   "cell_type": "code",
   "execution_count": 20,
   "id": "2714a3fe",
   "metadata": {},
   "outputs": [],
   "source": [
    "def plus(a , b):\n",
    "    c = a+b\n",
    "    print(c)"
   ]
  },
  {
   "cell_type": "code",
   "execution_count": 21,
   "id": "4e2fbef9",
   "metadata": {},
   "outputs": [
    {
     "name": "stdout",
     "output_type": "stream",
     "text": [
      "7\n"
     ]
    }
   ],
   "source": [
    "f = plus(4,3)"
   ]
  },
  {
   "cell_type": "code",
   "execution_count": 22,
   "id": "c8f4edd5",
   "metadata": {},
   "outputs": [
    {
     "data": {
      "text/plain": [
       "NoneType"
      ]
     },
     "execution_count": 22,
     "metadata": {},
     "output_type": "execute_result"
    }
   ],
   "source": [
    "type(f)  # print"
   ]
  },
  {
   "cell_type": "code",
   "execution_count": 23,
   "id": "06ffed8a",
   "metadata": {},
   "outputs": [],
   "source": [
    "def areaReac(l,w):\n",
    "    a = l*w\n",
    "    return a"
   ]
  },
  {
   "cell_type": "code",
   "execution_count": 24,
   "id": "bfdb2d77",
   "metadata": {},
   "outputs": [
    {
     "data": {
      "text/plain": [
       "4"
      ]
     },
     "execution_count": 24,
     "metadata": {},
     "output_type": "execute_result"
    }
   ],
   "source": [
    "areaReac(2,2)\n"
   ]
  },
  {
   "cell_type": "code",
   "execution_count": 48,
   "id": "f229c20a",
   "metadata": {},
   "outputs": [],
   "source": [
    "def area(a,b,c):\n",
    "    x = 3.14*a*a\n",
    "    y = b*c\n",
    "    return {'Area of circle': x,'Area of triangle':y}"
   ]
  },
  {
   "cell_type": "code",
   "execution_count": 49,
   "id": "117570e4",
   "metadata": {},
   "outputs": [
    {
     "name": "stdout",
     "output_type": "stream",
     "text": [
      "5\n",
      "3\n",
      "1\n"
     ]
    },
    {
     "data": {
      "text/plain": [
       "{'Area of circle': 78.5, 'Area of triangle': 3}"
      ]
     },
     "execution_count": 49,
     "metadata": {},
     "output_type": "execute_result"
    }
   ],
   "source": [
    "a = int(input())\n",
    "b = int(input())\n",
    "c = int(input())\n",
    "area(a,b,c)"
   ]
  },
  {
   "cell_type": "code",
   "execution_count": 30,
   "id": "8dec8b88",
   "metadata": {},
   "outputs": [],
   "source": [
    "t = 'HyderabAAd'"
   ]
  },
  {
   "cell_type": "code",
   "execution_count": 31,
   "id": "47edd0e0",
   "metadata": {},
   "outputs": [
    {
     "data": {
      "text/plain": [
       "'HyderabAAd'"
      ]
     },
     "execution_count": 31,
     "metadata": {},
     "output_type": "execute_result"
    }
   ],
   "source": [
    "t"
   ]
  },
  {
   "cell_type": "code",
   "execution_count": 36,
   "id": "f5212991",
   "metadata": {},
   "outputs": [],
   "source": [
    "def num(h):\n",
    "    a = t.count('A')\n",
    "    b = t.count('a')\n",
    "    return {'A':a , 'B':b}"
   ]
  },
  {
   "cell_type": "code",
   "execution_count": 37,
   "id": "69bcb617",
   "metadata": {},
   "outputs": [
    {
     "data": {
      "text/plain": [
       "{'A': 2, 'B': 1}"
      ]
     },
     "execution_count": 37,
     "metadata": {},
     "output_type": "execute_result"
    }
   ],
   "source": [
    "num('HyderabAAd')"
   ]
  },
  {
   "cell_type": "code",
   "execution_count": 39,
   "id": "b3fb26e1",
   "metadata": {},
   "outputs": [],
   "source": [
    "def num(h):\n",
    "    z = h.lower()\n",
    "    a = z.count('a')\n",
    "    #b = t.count('a')\n",
    "    return {'A':a }"
   ]
  },
  {
   "cell_type": "code",
   "execution_count": 40,
   "id": "01c8f0cb",
   "metadata": {},
   "outputs": [
    {
     "data": {
      "text/plain": [
       "{'A': 3}"
      ]
     },
     "execution_count": 40,
     "metadata": {},
     "output_type": "execute_result"
    }
   ],
   "source": [
    "num('HyderabAAd')"
   ]
  },
  {
   "cell_type": "code",
   "execution_count": 44,
   "id": "5d5eae30",
   "metadata": {},
   "outputs": [],
   "source": [
    "def alpha_num(n):\n",
    "    c = 0\n",
    "    d = 0\n",
    "    for i in n:\n",
    "        if i.isalpha():\n",
    "            c+=1\n",
    "        elif i.isnumeric():\n",
    "            d+=1\n",
    "    return{'alphabates':c,'numeric':d}"
   ]
  },
  {
   "cell_type": "code",
   "execution_count": 46,
   "id": "2ab4ddce",
   "metadata": {},
   "outputs": [
    {
     "data": {
      "text/plain": [
       "{'alphabates': 19, 'numeric': 6}"
      ]
     },
     "execution_count": 46,
     "metadata": {},
     "output_type": "execute_result"
    }
   ],
   "source": [
    "alpha_num(\"hyderabaad  500008  telangana\")"
   ]
  },
  {
   "cell_type": "code",
   "execution_count": 50,
   "id": "582a9ff2",
   "metadata": {},
   "outputs": [
    {
     "data": {
      "text/plain": [
       "[22, 51, 56, 74, 97, 88, 32, 1, 9]"
      ]
     },
     "execution_count": 50,
     "metadata": {},
     "output_type": "execute_result"
    }
   ],
   "source": [
    "num = [22,51,56,74,97,88,32,1,9]\n",
    "num"
   ]
  },
  {
   "cell_type": "code",
   "execution_count": 51,
   "id": "12e3d0ec",
   "metadata": {},
   "outputs": [],
   "source": [
    "def evenorodd(num):\n",
    "    z = []\n",
    "    y = []\n",
    "    for i in num:\n",
    "        if(i%2==0):\n",
    "            z.append(i)\n",
    "        else:\n",
    "            y.append(i)\n",
    "    return {'Even':z , 'odd':y}"
   ]
  },
  {
   "cell_type": "code",
   "execution_count": 53,
   "id": "75ca75af",
   "metadata": {},
   "outputs": [],
   "source": [
    "a = evenorodd(num)"
   ]
  },
  {
   "cell_type": "code",
   "execution_count": 54,
   "id": "74fe3ca3",
   "metadata": {},
   "outputs": [
    {
     "data": {
      "text/plain": [
       "{'Even': [22, 56, 74, 88, 32], 'odd': [51, 97, 1, 9]}"
      ]
     },
     "execution_count": 54,
     "metadata": {},
     "output_type": "execute_result"
    }
   ],
   "source": [
    "a"
   ]
  },
  {
   "cell_type": "code",
   "execution_count": 57,
   "id": "54a97907",
   "metadata": {},
   "outputs": [
    {
     "data": {
      "text/plain": [
       "[22, 56, 74, 88, 32]"
      ]
     },
     "execution_count": 57,
     "metadata": {},
     "output_type": "execute_result"
    }
   ],
   "source": [
    "a['Even']  # as it is disctionary we can print seprate "
   ]
  },
  {
   "cell_type": "code",
   "execution_count": 58,
   "id": "553c3fab",
   "metadata": {},
   "outputs": [
    {
     "data": {
      "text/plain": [
       "[51, 97, 1, 9]"
      ]
     },
     "execution_count": 58,
     "metadata": {},
     "output_type": "execute_result"
    }
   ],
   "source": [
    "a['odd']"
   ]
  },
  {
   "cell_type": "code",
   "execution_count": null,
   "id": "e0889ab7",
   "metadata": {},
   "outputs": [],
   "source": []
  }
 ],
 "metadata": {
  "kernelspec": {
   "display_name": "Python 3 (ipykernel)",
   "language": "python",
   "name": "python3"
  },
  "language_info": {
   "codemirror_mode": {
    "name": "ipython",
    "version": 3
   },
   "file_extension": ".py",
   "mimetype": "text/x-python",
   "name": "python",
   "nbconvert_exporter": "python",
   "pygments_lexer": "ipython3",
   "version": "3.12.7"
  }
 },
 "nbformat": 4,
 "nbformat_minor": 5
}
