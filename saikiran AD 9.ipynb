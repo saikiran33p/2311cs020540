{
 "cells": [
  {
   "cell_type": "code",
   "execution_count": 5,
   "id": "2b271678-80df-4f7b-a58e-ee5b64bbfe36",
   "metadata": {},
   "outputs": [
    {
     "data": {
      "text/plain": [
       "array([16, 17, 17, 17, 15, 17, 17, 16, 16, 15, 16, 15, 16, 15, 16, 17, 16,\n",
       "       16, 17, 15])"
      ]
     },
     "execution_count": 5,
     "metadata": {},
     "output_type": "execute_result"
    }
   ],
   "source": [
    "import numpy as np\n",
    "ten_strd = np.random.randint(15,18,(20))  #random number (starting , ending-1,numbers of)\n",
    "ten_strd"
   ]
  },
  {
   "cell_type": "code",
   "execution_count": 6,
   "id": "cbd87f98-fc00-4137-9483-ac8f0e40fb93",
   "metadata": {},
   "outputs": [
    {
     "data": {
      "text/plain": [
       "array([16., 17., 17., 17., 15., 17., 17., 16., 16., 15., 16., 15., 16.,\n",
       "       15., 16., 17., 16., 16., 17., 15.])"
      ]
     },
     "execution_count": 6,
     "metadata": {},
     "output_type": "execute_result"
    }
   ],
   "source": [
    "ten_strd+.0"
   ]
  },
  {
   "cell_type": "code",
   "execution_count": 7,
   "id": "1770182c-158a-453f-9d00-fe70c9d3c4a5",
   "metadata": {},
   "outputs": [],
   "source": [
    "arr = np.random.randint(20,99,(6,7))  #rows and columns"
   ]
  },
  {
   "cell_type": "code",
   "execution_count": 8,
   "id": "048e0179-a0ca-422e-b810-a30e2a50ced9",
   "metadata": {},
   "outputs": [
    {
     "data": {
      "text/plain": [
       "array([[90, 23, 85, 52, 86, 26, 45],\n",
       "       [60, 92, 32, 36, 21, 32, 43],\n",
       "       [79, 57, 87, 29, 50, 30, 28],\n",
       "       [34, 70, 96, 24, 30, 67, 50],\n",
       "       [39, 56, 63, 28, 70, 56, 30],\n",
       "       [75, 29, 85, 27, 71, 34, 70]])"
      ]
     },
     "execution_count": 8,
     "metadata": {},
     "output_type": "execute_result"
    }
   ],
   "source": [
    "arr"
   ]
  },
  {
   "cell_type": "code",
   "execution_count": 9,
   "id": "097af526-a70f-41c6-a372-f268818217b3",
   "metadata": {},
   "outputs": [
    {
     "data": {
      "text/plain": [
       "array([[24, 40, 39, 36, 92, 80, 29],\n",
       "       [79, 72, 88, 68, 20, 41, 90],\n",
       "       [73, 45, 68, 74, 67, 80, 74],\n",
       "       [45, 39, 33, 22, 97, 62, 57],\n",
       "       [45, 48, 21, 80, 39, 36, 63],\n",
       "       [36, 51, 30, 53, 91, 75, 92]])"
      ]
     },
     "execution_count": 9,
     "metadata": {},
     "output_type": "execute_result"
    }
   ],
   "source": [
    "#np.random.seed(234)        #seed used to generate the same data as many times ----- it is called locking the data\n",
    "array = np.random.randint(20,99,(6,7))\n",
    "array"
   ]
  },
  {
   "cell_type": "code",
   "execution_count": 10,
   "id": "3a61f08a-c309-4fe5-b6b8-1bb29acd9109",
   "metadata": {},
   "outputs": [
    {
     "data": {
      "text/plain": [
       "array([[24, 40, 39, 36, 92, 80, 29],\n",
       "       [79, 72, 88, 68, 20, 41, 90],\n",
       "       [73, 45, 68, 74, 67, 80, 74],\n",
       "       [45, 39, 33, 22, 97, 62, 57],\n",
       "       [45, 48, 21, 80, 39, 36, 63],\n",
       "       [36, 51, 30, 53, 91, 75, 92]])"
      ]
     },
     "execution_count": 10,
     "metadata": {},
     "output_type": "execute_result"
    }
   ],
   "source": [
    "array"
   ]
  },
  {
   "cell_type": "code",
   "execution_count": 11,
   "id": "6a17a598-a92e-4f69-8dcb-633cd6c5f4fc",
   "metadata": {},
   "outputs": [
    {
     "data": {
      "text/plain": [
       "2"
      ]
     },
     "execution_count": 11,
     "metadata": {},
     "output_type": "execute_result"
    }
   ],
   "source": [
    "arr.ndim"
   ]
  },
  {
   "cell_type": "code",
   "execution_count": 12,
   "id": "b0b41c25-ea32-4354-ae38-6f0eec6e53e6",
   "metadata": {},
   "outputs": [
    {
     "data": {
      "text/plain": [
       "42"
      ]
     },
     "execution_count": 12,
     "metadata": {},
     "output_type": "execute_result"
    }
   ],
   "source": [
    "arr.size"
   ]
  },
  {
   "cell_type": "code",
   "execution_count": 13,
   "id": "fc0babb2-0314-4518-904b-b35015b28e14",
   "metadata": {},
   "outputs": [
    {
     "data": {
      "text/plain": [
       "[5, 20, 10, 6, 8]"
      ]
     },
     "execution_count": 13,
     "metadata": {},
     "output_type": "execute_result"
    }
   ],
   "source": [
    "m = [5,20,10,6,8]\n",
    "m"
   ]
  },
  {
   "cell_type": "code",
   "execution_count": 14,
   "id": "f1f49c08-23d6-4ae0-a268-664c87e55bc5",
   "metadata": {},
   "outputs": [
    {
     "data": {
      "text/plain": [
       "[25, 400, 100, 36, 64]"
      ]
     },
     "execution_count": 14,
     "metadata": {},
     "output_type": "execute_result"
    }
   ],
   "source": [
    "square_list = [i*i for i in m]\n",
    "square_list"
   ]
  },
  {
   "cell_type": "code",
   "execution_count": 15,
   "id": "433b594a-fe62-4e30-9a8e-a93bb31a820d",
   "metadata": {},
   "outputs": [],
   "source": [
    "for i in range(len(m)):\n",
    "   m[i] = m[i]**2"
   ]
  },
  {
   "cell_type": "code",
   "execution_count": 2,
   "id": "e4e1d815-76c5-45c9-8a26-1c9fce34e5cc",
   "metadata": {},
   "outputs": [
    {
     "data": {
      "text/plain": [
       "(3, 5, 9, 8, 1)"
      ]
     },
     "execution_count": 2,
     "metadata": {},
     "output_type": "execute_result"
    }
   ],
   "source": [
    "b = (3,5,9,8,1)\n",
    "b"
   ]
  },
  {
   "cell_type": "code",
   "execution_count": 5,
   "id": "0b4c3db8-7963-45d1-8fea-6de032d7d044",
   "metadata": {},
   "outputs": [
    {
     "data": {
      "text/plain": [
       "(8, 10, 14, 13, 6)"
      ]
     },
     "execution_count": 5,
     "metadata": {},
     "output_type": "execute_result"
    }
   ],
   "source": [
    "lt = tuple(i+5 for i in b)\n",
    "lt"
   ]
  },
  {
   "cell_type": "code",
   "execution_count": 8,
   "id": "cc5badcc-442d-4ed0-8074-f32db25c424c",
   "metadata": {},
   "outputs": [
    {
     "data": {
      "text/plain": [
       "[55, 25, 85, 75, 35, 45, 95]"
      ]
     },
     "execution_count": 8,
     "metadata": {},
     "output_type": "execute_result"
    }
   ],
   "source": [
    "k = [55,25,85,75,35,45,95]\n",
    "k"
   ]
  },
  {
   "cell_type": "code",
   "execution_count": 11,
   "id": "f8b19a98-10f3-48f5-b297-38632a3f919d",
   "metadata": {},
   "outputs": [],
   "source": [
    "v=[]\n",
    "c=[]\n",
    "for i in k:\n",
    "    if i<50:\n",
    "        v.append(i)\n",
    "    "
   ]
  },
  {
   "cell_type": "code",
   "execution_count": 12,
   "id": "430606b0-6f5a-49e9-8411-718744a45f16",
   "metadata": {},
   "outputs": [
    {
     "name": "stdout",
     "output_type": "stream",
     "text": [
      "[25, 35, 45]\n"
     ]
    }
   ],
   "source": [
    "print(v)"
   ]
  },
  {
   "cell_type": "code",
   "execution_count": 15,
   "id": "9be578be-f181-4dea-ba75-434c8aa5d615",
   "metadata": {},
   "outputs": [],
   "source": [
    "import numpy as np\n",
    "Array = np.random.randint(20,90,10)"
   ]
  },
  {
   "cell_type": "code",
   "execution_count": 16,
   "id": "7c84e685-c2e5-4cb0-8bf4-7b45298cdca6",
   "metadata": {},
   "outputs": [
    {
     "data": {
      "text/plain": [
       "array([85, 42, 62, 78, 21, 88, 77, 55, 72, 37])"
      ]
     },
     "execution_count": 16,
     "metadata": {},
     "output_type": "execute_result"
    }
   ],
   "source": [
    "Array"
   ]
  },
  {
   "cell_type": "code",
   "execution_count": 18,
   "id": "afe4580c-7629-409a-bec3-1e3138d5c056",
   "metadata": {},
   "outputs": [
    {
     "data": {
      "text/plain": [
       "array([90, 47, 67, 83, 26, 93, 82, 60, 77, 42])"
      ]
     },
     "execution_count": 18,
     "metadata": {},
     "output_type": "execute_result"
    }
   ],
   "source": [
    "Array+5  # no need to iterate over the array "
   ]
  },
  {
   "cell_type": "code",
   "execution_count": 20,
   "id": "2ab7c4e2-f14b-4dea-839c-51574bb71729",
   "metadata": {},
   "outputs": [
    {
     "data": {
      "text/plain": [
       "array([ True, False,  True,  True, False,  True,  True,  True,  True,\n",
       "       False])"
      ]
     },
     "execution_count": 20,
     "metadata": {},
     "output_type": "execute_result"
    }
   ],
   "source": [
    "Array>50   #it print in the form of boolean"
   ]
  },
  {
   "cell_type": "code",
   "execution_count": 25,
   "id": "0461f76a-5da8-4853-8e40-92626899ee7d",
   "metadata": {},
   "outputs": [
    {
     "data": {
      "text/plain": [
       "array([85, 62, 78, 88, 77, 55, 72])"
      ]
     },
     "execution_count": 25,
     "metadata": {},
     "output_type": "execute_result"
    }
   ],
   "source": [
    "Array[Array>50]  # it return thr values which are gratre the 50"
   ]
  },
  {
   "cell_type": "code",
   "execution_count": null,
   "id": "9148c9fb-ebf0-4570-ac85-ff7ab4f79428",
   "metadata": {},
   "outputs": [],
   "source": []
  },
  {
   "cell_type": "code",
   "execution_count": null,
   "id": "42da2e1b-5bf4-4852-adea-c5e7daed3520",
   "metadata": {},
   "outputs": [],
   "source": []
  }
 ],
 "metadata": {
  "kernelspec": {
   "display_name": "Python 3 (ipykernel)",
   "language": "python",
   "name": "python3"
  },
  "language_info": {
   "codemirror_mode": {
    "name": "ipython",
    "version": 3
   },
   "file_extension": ".py",
   "mimetype": "text/x-python",
   "name": "python",
   "nbconvert_exporter": "python",
   "pygments_lexer": "ipython3",
   "version": "3.12.7"
  }
 },
 "nbformat": 4,
 "nbformat_minor": 5
}
