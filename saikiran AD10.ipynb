{
 "cells": [
  {
   "cell_type": "code",
   "execution_count": 1,
   "id": "2e45fec8-334e-421d-8d40-4b9065f26243",
   "metadata": {},
   "outputs": [],
   "source": [
    "import numpy as np\n",
    "#import pandas as pd"
   ]
  },
  {
   "cell_type": "code",
   "execution_count": 2,
   "id": "9a2dbfa4-2b1c-4554-9901-f344050fedff",
   "metadata": {},
   "outputs": [],
   "source": [
    "a = np.random.randint(30,50,15)"
   ]
  },
  {
   "cell_type": "code",
   "execution_count": 3,
   "id": "bc7bfeeb-6156-4c27-85d3-e1500bd345ff",
   "metadata": {},
   "outputs": [
    {
     "data": {
      "text/plain": [
       "array([40, 32, 45, 46, 41, 47, 43, 49, 41, 33, 38, 40, 46, 35, 49])"
      ]
     },
     "execution_count": 3,
     "metadata": {},
     "output_type": "execute_result"
    }
   ],
   "source": [
    "a"
   ]
  },
  {
   "cell_type": "code",
   "execution_count": 4,
   "id": "aed9a438-fd52-4a7f-820a-a47de288537b",
   "metadata": {},
   "outputs": [
    {
     "data": {
      "text/plain": [
       "1"
      ]
     },
     "execution_count": 4,
     "metadata": {},
     "output_type": "execute_result"
    }
   ],
   "source": [
    "a.ndim"
   ]
  },
  {
   "cell_type": "code",
   "execution_count": 5,
   "id": "ea71f889-de9c-4df6-9600-5fd27dcaddb8",
   "metadata": {},
   "outputs": [
    {
     "data": {
      "text/plain": [
       "38"
      ]
     },
     "execution_count": 5,
     "metadata": {},
     "output_type": "execute_result"
    }
   ],
   "source": [
    "a[10]"
   ]
  },
  {
   "cell_type": "code",
   "execution_count": 6,
   "id": "60bf4a95-864a-412b-ba5e-5b7fa405da33",
   "metadata": {},
   "outputs": [
    {
     "data": {
      "text/plain": [
       "array([41, 47, 43, 49, 41, 33, 38, 40, 46, 35, 49])"
      ]
     },
     "execution_count": 6,
     "metadata": {},
     "output_type": "execute_result"
    }
   ],
   "source": [
    "a[4:15]"
   ]
  },
  {
   "cell_type": "code",
   "execution_count": 9,
   "id": "69ae652a-0688-4b4c-a8e4-cc05060842f7",
   "metadata": {},
   "outputs": [
    {
     "data": {
      "text/plain": [
       "array([35, 46, 40, 38, 33, 41, 49])"
      ]
     },
     "execution_count": 9,
     "metadata": {},
     "output_type": "execute_result"
    }
   ],
   "source": [
    "a[-2:-9:-1]"
   ]
  },
  {
   "cell_type": "code",
   "execution_count": 10,
   "id": "186f1696-20b2-4bf8-b194-13c009e460be",
   "metadata": {},
   "outputs": [],
   "source": [
    "np.random.seed(94)\n",
    "b=np.random.randint(45,78,(7,8))"
   ]
  },
  {
   "cell_type": "code",
   "execution_count": 11,
   "id": "e017fcf7-4ba3-4fe9-bc50-b987f4734a36",
   "metadata": {},
   "outputs": [
    {
     "data": {
      "text/plain": [
       "array([[63, 45, 48, 67, 74, 64, 61, 53],\n",
       "       [61, 59, 55, 77, 69, 69, 48, 60],\n",
       "       [71, 56, 51, 58, 59, 47, 68, 77],\n",
       "       [46, 45, 52, 74, 65, 53, 60, 55],\n",
       "       [64, 72, 46, 69, 65, 75, 75, 51],\n",
       "       [75, 67, 53, 77, 60, 67, 67, 47],\n",
       "       [75, 54, 74, 69, 54, 64, 52, 61]])"
      ]
     },
     "execution_count": 11,
     "metadata": {},
     "output_type": "execute_result"
    }
   ],
   "source": [
    "b"
   ]
  },
  {
   "cell_type": "code",
   "execution_count": 12,
   "id": "19349653-8051-405c-98bb-4dd5d29bcb36",
   "metadata": {},
   "outputs": [
    {
     "data": {
      "text/plain": [
       "array([71, 56, 51, 58, 59, 47, 68, 77])"
      ]
     },
     "execution_count": 12,
     "metadata": {},
     "output_type": "execute_result"
    }
   ],
   "source": [
    "b[2]  #row access"
   ]
  },
  {
   "cell_type": "code",
   "execution_count": 13,
   "id": "7e9cd76c-fe89-4193-8175-41bad2a4b298",
   "metadata": {},
   "outputs": [
    {
     "data": {
      "text/plain": [
       "51"
      ]
     },
     "execution_count": 13,
     "metadata": {},
     "output_type": "execute_result"
    }
   ],
   "source": [
    "b[2][2] #accession the value"
   ]
  },
  {
   "cell_type": "code",
   "execution_count": 14,
   "id": "12c8e59d-73e8-44d7-ab09-c1b80dfc48da",
   "metadata": {},
   "outputs": [
    {
     "data": {
      "text/plain": [
       "array([67, 77, 58, 74, 69, 77, 69])"
      ]
     },
     "execution_count": 14,
     "metadata": {},
     "output_type": "execute_result"
    }
   ],
   "source": [
    "b[:,3]  #column"
   ]
  },
  {
   "cell_type": "code",
   "execution_count": 15,
   "id": "48f5d743-ac01-47af-b1d3-1033a0bf07e8",
   "metadata": {},
   "outputs": [
    {
     "data": {
      "text/plain": [
       "51"
      ]
     },
     "execution_count": 15,
     "metadata": {},
     "output_type": "execute_result"
    }
   ],
   "source": [
    "b[2,2]  #accessing the row"
   ]
  },
  {
   "cell_type": "code",
   "execution_count": 19,
   "id": "38f2dbd7-be14-4411-8992-3f131def6ba9",
   "metadata": {},
   "outputs": [
    {
     "data": {
      "text/plain": [
       "array([[61, 59, 55, 77, 69, 69, 48, 60],\n",
       "       [71, 56, 51, 58, 59, 47, 68, 77],\n",
       "       [46, 45, 52, 74, 65, 53, 60, 55]])"
      ]
     },
     "execution_count": 19,
     "metadata": {},
     "output_type": "execute_result"
    }
   ],
   "source": [
    "b[1:4]  # accessing  the one or more row "
   ]
  },
  {
   "cell_type": "code",
   "execution_count": 20,
   "id": "bcd02846-a144-4811-8991-66a79cb2de41",
   "metadata": {},
   "outputs": [
    {
     "data": {
      "text/plain": [
       "array([59, 56, 45])"
      ]
     },
     "execution_count": 20,
     "metadata": {},
     "output_type": "execute_result"
    }
   ],
   "source": [
    "b[1:4,1] # accessing the elemets in that column"
   ]
  },
  {
   "cell_type": "code",
   "execution_count": 21,
   "id": "e476da77-a538-41e0-865b-93842351e005",
   "metadata": {},
   "outputs": [
    {
     "data": {
      "text/plain": [
       "array([[59, 55, 77, 69],\n",
       "       [56, 51, 58, 59],\n",
       "       [45, 52, 74, 65]])"
      ]
     },
     "execution_count": 21,
     "metadata": {},
     "output_type": "execute_result"
    }
   ],
   "source": [
    "b[1:4,1:5] # we can access the sub rows also"
   ]
  },
  {
   "cell_type": "code",
   "execution_count": 24,
   "id": "69c7208e-b3d4-4dee-b5f8-b00bd471ae43",
   "metadata": {},
   "outputs": [
    {
     "data": {
      "text/plain": [
       "array([[63, 45, 48, 67, 74, 64, 61, 53],\n",
       "       [61, 59, 55, 77, 69, 69, 48, 60],\n",
       "       [71, 56, 51, 58, 59, 47, 68, 77],\n",
       "       [46, 45, 52, 74, 65, 53, 60, 55],\n",
       "       [64, 72, 46, 69, 65, 75, 75, 51],\n",
       "       [75, 67, 53, 77, 60, 67, 67, 47],\n",
       "       [75, 54, 74, 69, 54, 64, 52, 61]])"
      ]
     },
     "execution_count": 24,
     "metadata": {},
     "output_type": "execute_result"
    }
   ],
   "source": [
    "b"
   ]
  },
  {
   "cell_type": "code",
   "execution_count": 29,
   "id": "504de73f-f125-4227-b45f-2dce1238d186",
   "metadata": {},
   "outputs": [
    {
     "data": {
      "text/plain": [
       "array([[52, 74, 65, 53, 60],\n",
       "       [46, 69, 65, 75, 75],\n",
       "       [53, 77, 60, 67, 67],\n",
       "       [74, 69, 54, 64, 52]])"
      ]
     },
     "execution_count": 29,
     "metadata": {},
     "output_type": "execute_result"
    }
   ],
   "source": [
    "b[3:7,2:7]"
   ]
  },
  {
   "cell_type": "code",
   "execution_count": 32,
   "id": "a6ae3eb5-6a03-4eaf-b1c1-56897a94875b",
   "metadata": {},
   "outputs": [
    {
     "data": {
      "text/plain": [
       "array([[52, 74, 65, 53, 60],\n",
       "       [46, 69, 65, 75, 75],\n",
       "       [53, 77, 60, 67, 67],\n",
       "       [74, 69, 54, 64, 52]])"
      ]
     },
     "execution_count": 32,
     "metadata": {},
     "output_type": "execute_result"
    }
   ],
   "source": [
    "b[3:7,2:7]"
   ]
  },
  {
   "cell_type": "code",
   "execution_count": 35,
   "id": "4dcd3572-0b0f-4860-b326-5c64bfa747c8",
   "metadata": {},
   "outputs": [
    {
     "data": {
      "text/plain": [
       "array([[59, 55, 77, 69, 69, 48],\n",
       "       [56, 51, 58, 59, 47, 68],\n",
       "       [45, 52, 74, 65, 53, 60],\n",
       "       [72, 46, 69, 65, 75, 75],\n",
       "       [67, 53, 77, 60, 67, 67],\n",
       "       [54, 74, 69, 54, 64, 52]])"
      ]
     },
     "execution_count": 35,
     "metadata": {},
     "output_type": "execute_result"
    }
   ],
   "source": [
    "b[1:7,1:7]"
   ]
  },
  {
   "cell_type": "code",
   "execution_count": 37,
   "id": "85942328-a89d-455f-be56-85ea44aa3650",
   "metadata": {},
   "outputs": [
    {
     "data": {
      "text/plain": [
       "array([[63, 45, 48, 67, 74, 64, 61, 53],\n",
       "       [61, 59, 55, 77, 69, 69, 48, 60],\n",
       "       [71, 56, 51, 58, 59, 47, 68, 77],\n",
       "       [46, 45, 52, 74, 65, 53, 60, 55],\n",
       "       [64, 72, 46, 69, 65, 75, 75, 51],\n",
       "       [75, 67, 53, 77, 60, 67, 67, 47],\n",
       "       [75, 54, 74, 69, 54, 64, 52, 61]])"
      ]
     },
     "execution_count": 37,
     "metadata": {},
     "output_type": "execute_result"
    }
   ],
   "source": [
    "b"
   ]
  },
  {
   "cell_type": "code",
   "execution_count": 39,
   "id": "ee1b5706-de05-40db-a81f-d47233aa63b3",
   "metadata": {},
   "outputs": [
    {
     "data": {
      "text/plain": [
       "array([[45, 48, 67, 74, 64],\n",
       "       [59, 55, 77, 69, 69],\n",
       "       [56, 51, 58, 59, 47],\n",
       "       [45, 52, 74, 65, 53],\n",
       "       [72, 46, 69, 65, 75]])"
      ]
     },
     "execution_count": 39,
     "metadata": {},
     "output_type": "execute_result"
    }
   ],
   "source": [
    "b:[]"
   ]
  },
  {
   "cell_type": "code",
   "execution_count": 44,
   "id": "606c9886-efb8-4ccd-a388-5c63574e3d32",
   "metadata": {},
   "outputs": [
    {
     "data": {
      "text/plain": [
       "array([[51, 58, 59],\n",
       "       [52, 74, 65],\n",
       "       [46, 69, 65],\n",
       "       [53, 77, 60]])"
      ]
     },
     "execution_count": 44,
     "metadata": {},
     "output_type": "execute_result"
    }
   ],
   "source": [
    "b[2:6,2:5]"
   ]
  },
  {
   "cell_type": "code",
   "execution_count": 46,
   "id": "050c1bf8-2c03-4a73-8bac-5f076a2d0fc6",
   "metadata": {},
   "outputs": [
    {
     "ename": "SyntaxError",
     "evalue": "invalid syntax (399896044.py, line 1)",
     "output_type": "error",
     "traceback": [
      "\u001b[1;36m  Cell \u001b[1;32mIn[46], line 1\u001b[1;36m\u001b[0m\n\u001b[1;33m    b[(1:7,1:8),1]\u001b[0m\n\u001b[1;37m        ^\u001b[0m\n\u001b[1;31mSyntaxError\u001b[0m\u001b[1;31m:\u001b[0m invalid syntax\n"
     ]
    }
   ],
   "source": [
    "b[(1:7,1:8),1]   #i need to access the "
   ]
  },
  {
   "cell_type": "code",
   "execution_count": 47,
   "id": "51acd92c-77b6-4f1a-a15f-981b605c5bc4",
   "metadata": {},
   "outputs": [
    {
     "data": {
      "text/plain": [
       "array([[45, 48, 67, 74, 64, 61],\n",
       "       [59, 55, 77, 69, 69, 48],\n",
       "       [56, 51, 58, 59, 47, 68],\n",
       "       [45, 52, 74, 65, 53, 60]])"
      ]
     },
     "execution_count": 47,
     "metadata": {},
     "output_type": "execute_result"
    }
   ],
   "source": [
    "b[0:4,1:7]  #for this type of problem first write the row then the ending of the row and in the last write starting of columns and end of column"
   ]
  },
  {
   "cell_type": "code",
   "execution_count": 49,
   "id": "dd3b0888-5ba9-4c3c-9070-f25992c299cc",
   "metadata": {},
   "outputs": [
    {
     "data": {
      "text/plain": [
       "array([45, 48, 48, 47, 46, 45, 46, 47])"
      ]
     },
     "execution_count": 49,
     "metadata": {},
     "output_type": "execute_result"
    }
   ],
   "source": [
    "import numpy as np\n",
    "b[b<50]"
   ]
  },
  {
   "cell_type": "code",
   "execution_count": 50,
   "id": "48d53a89-6745-4dbd-a196-312584709893",
   "metadata": {},
   "outputs": [
    {
     "data": {
      "text/plain": [
       "(array([0, 0, 1, 2, 3, 3, 4, 5], dtype=int64),\n",
       " array([1, 2, 6, 5, 0, 1, 2, 7], dtype=int64))"
      ]
     },
     "execution_count": 50,
     "metadata": {},
     "output_type": "execute_result"
    }
   ],
   "source": [
    "np.where(b<50) # give the row/colums to access the index"
   ]
  },
  {
   "cell_type": "code",
   "execution_count": null,
   "id": "6a1deba0-49ff-4204-bca5-732d1dd437a2",
   "metadata": {},
   "outputs": [],
   "source": []
  }
 ],
 "metadata": {
  "kernelspec": {
   "display_name": "Python 3 (ipykernel)",
   "language": "python",
   "name": "python3"
  },
  "language_info": {
   "codemirror_mode": {
    "name": "ipython",
    "version": 3
   },
   "file_extension": ".py",
   "mimetype": "text/x-python",
   "name": "python",
   "nbconvert_exporter": "python",
   "pygments_lexer": "ipython3",
   "version": "3.12.7"
  }
 },
 "nbformat": 4,
 "nbformat_minor": 5
}
